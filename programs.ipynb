{
  "nbformat": 4,
  "nbformat_minor": 0,
  "metadata": {
    "colab": {
      "provenance": [],
      "authorship_tag": "ABX9TyOPBFJkQQjblMcFGilF3YU3",
      "include_colab_link": true
    },
    "kernelspec": {
      "name": "python3",
      "display_name": "Python 3"
    },
    "language_info": {
      "name": "python"
    }
  },
  "cells": [
    {
      "cell_type": "markdown",
      "metadata": {
        "id": "view-in-github",
        "colab_type": "text"
      },
      "source": [
        "<a href=\"https://colab.research.google.com/github/fathimar33/python_programs/blob/main/programs.ipynb\" target=\"_parent\"><img src=\"https://colab.research.google.com/assets/colab-badge.svg\" alt=\"Open In Colab\"/></a>"
      ]
    },
    {
      "cell_type": "code",
      "execution_count": null,
      "metadata": {
        "id": "51GAkMYOLeZc"
      },
      "outputs": [],
      "source": [
        "# problem 1 \n",
        "#to reverse the number"
      ]
    },
    {
      "cell_type": "code",
      "source": [
        "#ok i m going to make use of class and object here\n",
        "class reverse:\n",
        "  def __init__(self):\n",
        "    print(\"Reversing the number\")\n",
        "  def inp(self):\n",
        "    self.a=int(input(\"enter the number you want to reverse\"))\n",
        "  def work(self):\n",
        "    reverse.inp(self)\n",
        "    a=self.a\n",
        "    r=0\n",
        "    while(a>0):\n",
        "      m=a%10\n",
        "      r=r+m\n",
        "      a=a//10\n",
        "      print(m,end=\" \")\n",
        "obj1=reverse()\n",
        "obj1.work()"
      ],
      "metadata": {
        "colab": {
          "base_uri": "https://localhost:8080/"
        },
        "id": "Yg2YRP6TLraC",
        "outputId": "294fe3f4-8f79-424d-b256-0edf9907c737"
      },
      "execution_count": null,
      "outputs": [
        {
          "output_type": "stream",
          "name": "stdout",
          "text": [
            "Reversing the number\n",
            "enter the number you want to reverse123\n",
            "3 2 1 "
          ]
        }
      ]
    }
  ]
}