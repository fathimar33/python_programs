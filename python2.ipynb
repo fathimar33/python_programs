{
  "nbformat": 4,
  "nbformat_minor": 0,
  "metadata": {
    "colab": {
      "provenance": [],
      "authorship_tag": "ABX9TyPL8Lb3wUNAXxqfxDm7LTJU"
    },
    "kernelspec": {
      "name": "python3",
      "display_name": "Python 3"
    },
    "language_info": {
      "name": "python"
    }
  },
  "cells": [
    {
      "cell_type": "markdown",
      "source": [
        "find the probability of getting heads in tossing a coin 10 times"
      ],
      "metadata": {
        "id": "G-bkfx6c_I7b"
      }
    },
    {
      "cell_type": "code",
      "execution_count": null,
      "metadata": {
        "id": "VQ4bMazy_Dxq"
      },
      "outputs": [],
      "source": [
        "import numpy as np"
      ]
    },
    {
      "cell_type": "code",
      "source": [
        "np.random.seed(42)\n",
        "l=[np.random.choice([\"H\",\"T\"]) for i in range(1,11)]\n",
        "count_h=len([i for i in l if i==\"H\"])\n",
        "count_t=len([i for i in l if i==\"T\"])\n",
        "print(f\"probability of getting heads: {count_h/len(l):.4f}\")"
      ],
      "metadata": {
        "colab": {
          "base_uri": "https://localhost:8080/"
        },
        "id": "KZUIqRAg_b3F",
        "outputId": "72ad51a2-4fc9-416c-ffed-17bb9d60681d"
      },
      "execution_count": null,
      "outputs": [
        {
          "output_type": "stream",
          "name": "stdout",
          "text": [
            "probability of getting heads: 0.7000\n"
          ]
        }
      ]
    },
    {
      "cell_type": "markdown",
      "source": [
        "find the probability of getting red in a deck of 52 cards"
      ],
      "metadata": {
        "id": "9QyIhBW8BVtd"
      }
    },
    {
      "cell_type": "code",
      "source": [
        "card_grp=[\"clubs\",\"diamond\",\"hearts\",\"spades\"]\n",
        "card=[\"Ace\",\"2\",\"3\",\"4\",\"5\",\"6\",\"7\",\"8\",\"9\",\"10\",\"king\",\"jack\",\"queen\"]\n",
        "l=[[i,j] for i in card_grp for j in card]\n",
        "count_red=len([m for m in l if m[0]  in(\"diamond\",\"hearts\")])\n",
        "print(f\"probability of picking red card\",count_red/len(l))"
      ],
      "metadata": {
        "colab": {
          "base_uri": "https://localhost:8080/"
        },
        "id": "77RjlT0RBwF5",
        "outputId": "4d297c7c-0041-4974-f6b2-b35fe8976632"
      },
      "execution_count": null,
      "outputs": [
        {
          "output_type": "stream",
          "name": "stdout",
          "text": [
            "probability of picking red card 0.5\n"
          ]
        }
      ]
    },
    {
      "cell_type": "markdown",
      "source": [
        "find the probability of getting even number in rolling a dice(two die)"
      ],
      "metadata": {
        "id": "URuB53OWMxmO"
      }
    },
    {
      "cell_type": "code",
      "source": [
        "import random\n",
        "\n",
        "s = [[random.randint(1, 6), random.randint(1, 6)] for _ in range(36)]\n",
        "print(s)\n",
        "\n",
        "count = len([pair for pair in s if (pair[0] + pair[1]) % 2 == 0])\n",
        "print(count)\n",
        "\n",
        "probability = count / len(s)\n",
        "print(f\"Probability of getting even numbers in rolling two dice: {probability:.2f}\")\n",
        "\n"
      ],
      "metadata": {
        "colab": {
          "base_uri": "https://localhost:8080/"
        },
        "id": "tz8hzo3INay9",
        "outputId": "320468ed-cac1-4b80-a406-8062a1b5a003"
      },
      "execution_count": null,
      "outputs": [
        {
          "output_type": "stream",
          "name": "stdout",
          "text": [
            "[[6, 4], [1, 3], [2, 5], [5, 5], [2, 6], [5, 5], [4, 5], [5, 3], [3, 6], [4, 3], [6, 4], [5, 3], [6, 6], [1, 1], [2, 5], [5, 4], [2, 5], [4, 6], [2, 1], [6, 6], [2, 6], [6, 3], [5, 6], [1, 2], [3, 2], [4, 6], [3, 3], [1, 5], [6, 1], [3, 5], [2, 3], [3, 1], [4, 2], [5, 3], [6, 1], [6, 5]]\n",
            "20\n",
            "Probability of getting even numbers in rolling two dice: 0.56\n"
          ]
        }
      ]
    }
  ]
}