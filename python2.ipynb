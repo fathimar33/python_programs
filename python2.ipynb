{
  "nbformat": 4,
  "nbformat_minor": 0,
  "metadata": {
    "colab": {
      "provenance": [],
      "authorship_tag": "ABX9TyNkZzSNhBKSekc9TR/n9uJf"
    },
    "kernelspec": {
      "name": "python3",
      "display_name": "Python 3"
    },
    "language_info": {
      "name": "python"
    }
  },
  "cells": [
    {
      "cell_type": "markdown",
      "source": [
        "find the probability of getting heads in tossing a coin 10 times"
      ],
      "metadata": {
        "id": "G-bkfx6c_I7b"
      }
    },
    {
      "cell_type": "code",
      "execution_count": 1,
      "metadata": {
        "id": "VQ4bMazy_Dxq"
      },
      "outputs": [],
      "source": [
        "import numpy as np"
      ]
    },
    {
      "cell_type": "code",
      "source": [
        "np.random.seed(42)\n",
        "l=[np.random.choice([\"H\",\"T\"]) for i in range(1,11)]\n",
        "count_h=len([i for i in l if i==\"H\"])\n",
        "count_t=len([i for i in l if i==\"T\"])\n",
        "print(f\"probability of getting heads: {count_h/len(l):.4f}\")"
      ],
      "metadata": {
        "colab": {
          "base_uri": "https://localhost:8080/"
        },
        "id": "KZUIqRAg_b3F",
        "outputId": "72ad51a2-4fc9-416c-ffed-17bb9d60681d"
      },
      "execution_count": 6,
      "outputs": [
        {
          "output_type": "stream",
          "name": "stdout",
          "text": [
            "probability of getting heads: 0.7000\n"
          ]
        }
      ]
    }
  ]
}