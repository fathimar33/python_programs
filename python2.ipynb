{
  "nbformat": 4,
  "nbformat_minor": 0,
  "metadata": {
    "colab": {
      "provenance": [],
      "authorship_tag": "ABX9TyPiK5Gf9JzvruEXR5qivI+K"
    },
    "kernelspec": {
      "name": "python3",
      "display_name": "Python 3"
    },
    "language_info": {
      "name": "python"
    }
  },
  "cells": [
    {
      "cell_type": "markdown",
      "source": [
        "find the probability of getting heads in tossing a coin 10 times"
      ],
      "metadata": {
        "id": "G-bkfx6c_I7b"
      }
    },
    {
      "cell_type": "code",
      "execution_count": null,
      "metadata": {
        "id": "VQ4bMazy_Dxq"
      },
      "outputs": [],
      "source": [
        "import numpy as np"
      ]
    },
    {
      "cell_type": "code",
      "source": [
        "np.random.seed(42)\n",
        "l=[np.random.choice([\"H\",\"T\"]) for i in range(1,11)]\n",
        "count_h=len([i for i in l if i==\"H\"])\n",
        "count_t=len([i for i in l if i==\"T\"])\n",
        "print(f\"probability of getting heads: {count_h/len(l):.4f}\")"
      ],
      "metadata": {
        "colab": {
          "base_uri": "https://localhost:8080/"
        },
        "id": "KZUIqRAg_b3F",
        "outputId": "72ad51a2-4fc9-416c-ffed-17bb9d60681d"
      },
      "execution_count": null,
      "outputs": [
        {
          "output_type": "stream",
          "name": "stdout",
          "text": [
            "probability of getting heads: 0.7000\n"
          ]
        }
      ]
    },
    {
      "cell_type": "markdown",
      "source": [
        "find the probability of getting red in a deck of 52 cards"
      ],
      "metadata": {
        "id": "9QyIhBW8BVtd"
      }
    },
    {
      "cell_type": "code",
      "source": [
        "card_grp=[\"clubs\",\"diamond\",\"hearts\",\"spades\"]\n",
        "card=[\"Ace\",\"2\",\"3\",\"4\",\"5\",\"6\",\"7\",\"8\",\"9\",\"10\",\"king\",\"jack\",\"queen\"]\n",
        "l=[[i,j] for i in card_grp for j in card]\n",
        "count_red=len([m for m in l if m[0]  in(\"diamond\",\"hearts\")])\n",
        "print(f\"probability of picking red card\",count_red/len(l))"
      ],
      "metadata": {
        "colab": {
          "base_uri": "https://localhost:8080/"
        },
        "id": "77RjlT0RBwF5",
        "outputId": "4d297c7c-0041-4974-f6b2-b35fe8976632"
      },
      "execution_count": null,
      "outputs": [
        {
          "output_type": "stream",
          "name": "stdout",
          "text": [
            "probability of picking red card 0.5\n"
          ]
        }
      ]
    },
    {
      "cell_type": "markdown",
      "source": [
        "find the probability of getting even number in rolling a dice(two die)"
      ],
      "metadata": {
        "id": "URuB53OWMxmO"
      }
    },
    {
      "cell_type": "code",
      "source": [
        "import random\n",
        "\n",
        "s = [[random.randint(1, 6), random.randint(1, 6)] for _ in range(36)]\n",
        "print(s)\n",
        "\n",
        "count = len([pair for pair in s if (pair[0] + pair[1]) % 2 == 0])\n",
        "print(count)\n",
        "\n",
        "probability = count / len(s)\n",
        "print(f\"Probability of getting even numbers in rolling two dice: {probability:.2f}\")\n",
        "\n"
      ],
      "metadata": {
        "colab": {
          "base_uri": "https://localhost:8080/"
        },
        "id": "tz8hzo3INay9",
        "outputId": "320468ed-cac1-4b80-a406-8062a1b5a003"
      },
      "execution_count": null,
      "outputs": [
        {
          "output_type": "stream",
          "name": "stdout",
          "text": [
            "[[6, 4], [1, 3], [2, 5], [5, 5], [2, 6], [5, 5], [4, 5], [5, 3], [3, 6], [4, 3], [6, 4], [5, 3], [6, 6], [1, 1], [2, 5], [5, 4], [2, 5], [4, 6], [2, 1], [6, 6], [2, 6], [6, 3], [5, 6], [1, 2], [3, 2], [4, 6], [3, 3], [1, 5], [6, 1], [3, 5], [2, 3], [3, 1], [4, 2], [5, 3], [6, 1], [6, 5]]\n",
            "20\n",
            "Probability of getting even numbers in rolling two dice: 0.56\n"
          ]
        }
      ]
    },
    {
      "cell_type": "markdown",
      "source": [
        "probability of getting 3,4 and 5\n",
        "\n",
        "\n",
        "1.   3 in first throw\n",
        "2.   4 in second throw and subsequently 5 in third row\n",
        "\n",
        "\n",
        "\n",
        "\n"
      ],
      "metadata": {
        "id": "Zx1bKNj2l4S-"
      }
    },
    {
      "cell_type": "code",
      "source": [
        "l=[1,2,3,4,5,6]\n",
        "p=1\n",
        "for i in [3,4,5]:\n",
        "  if i in l:\n",
        "    p*=1/len(l)\n",
        "print(f\"probability : {round(p,5)}\")"
      ],
      "metadata": {
        "colab": {
          "base_uri": "https://localhost:8080/"
        },
        "id": "8E6GK15Jqh5F",
        "outputId": "3997bb48-9e17-49d6-87f8-99c81e479870"
      },
      "execution_count": 6,
      "outputs": [
        {
          "output_type": "stream",
          "name": "stdout",
          "text": [
            "probability : 0.00463\n"
          ]
        }
      ]
    },
    {
      "cell_type": "markdown",
      "source": [
        "probobaility of getting 3 or 4 or 5"
      ],
      "metadata": {
        "id": "V-mEiWcsqkMr"
      }
    },
    {
      "cell_type": "code",
      "source": [
        "import random "
      ],
      "metadata": {
        "id": "TDqEnOnaog6y"
      },
      "execution_count": 1,
      "outputs": []
    },
    {
      "cell_type": "code",
      "source": [
        "l=[1,2,3,4,5,6]\n",
        "p_3_4_5=0\n",
        "for i in l:\n",
        "  if i==3 or i==4 or i==5:\n",
        "    p_3_4_5+=1\n",
        "print(f\"probability : {p_3_4_5/len(l)}\")\n"
      ],
      "metadata": {
        "colab": {
          "base_uri": "https://localhost:8080/"
        },
        "id": "sAvN2QYLl3xw",
        "outputId": "55a9f57a-f0d4-47fd-ccf4-a9800e456af5"
      },
      "execution_count": 2,
      "outputs": [
        {
          "output_type": "stream",
          "name": "stdout",
          "text": [
            "probability : 0.5\n"
          ]
        }
      ]
    },
    {
      "cell_type": "markdown",
      "source": [
        "class of 80 students\n",
        "40 percent-munich\n",
        "60-johannesburg\n",
        "30-both\n",
        "\n",
        "\n",
        "> what is the proportion of students prefered one location\n",
        "\n",
        "\n",
        "\n"
      ],
      "metadata": {
        "id": "No4xjuo5u9BR"
      }
    },
    {
      "cell_type": "code",
      "source": [
        "p_a=0.4\n",
        "p_b=0.6\n",
        "p_a_in_b=0.3\n",
        "p_a_or_b=p_a+p_b-p_a_in_b\n",
        "print(f\"proportion of students prefered one location {p_a_or_b}\")"
      ],
      "metadata": {
        "colab": {
          "base_uri": "https://localhost:8080/"
        },
        "id": "hwAVMndPvZ3x",
        "outputId": "eb1ba9dd-8c17-43a7-fb77-6edbd2fca9b6"
      },
      "execution_count": 8,
      "outputs": [
        {
          "output_type": "stream",
          "name": "stdout",
          "text": [
            "proportion of students prefered one location 0.7\n"
          ]
        }
      ]
    }
  ]
}