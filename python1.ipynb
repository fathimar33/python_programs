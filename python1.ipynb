{
  "nbformat": 4,
  "nbformat_minor": 0,
  "metadata": {
    "colab": {
      "provenance": [],
      "authorship_tag": "ABX9TyN7wR0kXNujl9dWdVv8Nwvo"
    },
    "kernelspec": {
      "name": "python3",
      "display_name": "Python 3"
    },
    "language_info": {
      "name": "python"
    }
  },
  "cells": [
    {
      "cell_type": "markdown",
      "source": [
        "`Python program to find the largest number in the array`"
      ],
      "metadata": {
        "id": "evwRjOJFel9X"
      }
    },
    {
      "cell_type": "code",
      "execution_count": null,
      "metadata": {
        "colab": {
          "base_uri": "https://localhost:8080/"
        },
        "id": "5valSG40eAmU",
        "outputId": "b34d7315-c554-455c-9058-172b325a3e57"
      },
      "outputs": [
        {
          "output_type": "stream",
          "name": "stdout",
          "text": [
            "Enter list size: 5\n",
            "Enter the number you want to add to the list: 4\n",
            "Enter the number you want to add to the list: 8\n",
            "Enter the number you want to add to the list: 7\n",
            "Enter the number you want to add to the list: 3\n",
            "Enter the number you want to add to the list: 2\n",
            "The largest number is: 8\n"
          ]
        }
      ],
      "source": [
        "class get_input():\n",
        "    def inp(self):\n",
        "        self.l = []\n",
        "        self.n = int(input(\"Enter list size: \"))\n",
        "        for i in range(self.n):\n",
        "            num = int(input(\"Enter the number you want to add to the list: \"))\n",
        "            self.l.append(num)\n",
        "\n",
        "class large(get_input):\n",
        "    def find_lar(self):\n",
        "        get_input.inp(self)\n",
        "        n1 = 0\n",
        "        big = self.l[n1]\n",
        "        while n1 < len(self.l):\n",
        "            m = n1 + 1\n",
        "            while m < len(self.l):\n",
        "                if self.l[m] > big:\n",
        "                    big = self.l[m]\n",
        "                m += 1\n",
        "            n1 += 1\n",
        "        print(\"The largest number is:\", big)\n",
        "\n",
        "obj1 = large()\n",
        "obj1.find_lar()\n",
        "\n"
      ]
    },
    {
      "cell_type": "markdown",
      "source": [
        "`Write a program in Python to check whether a number is palindrome or not using iterative method.`\n",
        "\n"
      ],
      "metadata": {
        "id": "-w_lEQeOKzjO"
      }
    },
    {
      "cell_type": "code",
      "source": [
        "a=input(\"enter the number\")\n",
        "b=a[::-1]\n",
        "a=int(a)\n",
        "b=int(b)\n",
        "print(type(a))\n",
        "if(a==b):\n",
        "  print(\"the given number is palindrome\")\n",
        "else:\n",
        "  print(\"the given number is not palindrome\")"
      ],
      "metadata": {
        "colab": {
          "base_uri": "https://localhost:8080/"
        },
        "id": "UHDxnN2bKvhP",
        "outputId": "4978d96b-3a74-44ab-db7d-0fa016a8566d"
      },
      "execution_count": null,
      "outputs": [
        {
          "output_type": "stream",
          "name": "stdout",
          "text": [
            "enter the number121\n",
            "<class 'int'>\n",
            "the given number is palindrome\n"
          ]
        }
      ]
    },
    {
      "cell_type": "markdown",
      "source": [
        "`Python program to check given character is digit or not.`"
      ],
      "metadata": {
        "id": "FChcyTFhvSoF"
      }
    },
    {
      "cell_type": "code",
      "source": [
        "flag=True\n",
        "while flag:\n",
        "    char=input(\"enter the character\")\n",
        "    if char.isdigit():\n",
        "      print(\"you entered the digit\")\n",
        "      flag=False\n"
      ],
      "metadata": {
        "colab": {
          "base_uri": "https://localhost:8080/"
        },
        "id": "Z__tHNGvvU_d",
        "outputId": "3c96938b-c885-446c-af74-52cd682bdc8e"
      },
      "execution_count": null,
      "outputs": [
        {
          "output_type": "stream",
          "name": "stdout",
          "text": [
            "enter the characterw\n",
            "enter the characterw\n",
            "enter the character1\n",
            "you entered the digit\n"
          ]
        }
      ]
    },
    {
      "cell_type": "markdown",
      "source": [
        "`Write a program in Python to find second highest number in an integer array.`"
      ],
      "metadata": {
        "id": "G0Yiw_4GXtpe"
      }
    },
    {
      "cell_type": "code",
      "source": [
        "n=int(input(\"enterthe size of the array\"))\n",
        "l=[]\n",
        "for i in range(n):\n",
        "  num=int(input(\"enter the numbers to add in the array\"))\n",
        "  l.append(num)\n",
        "l.sort(reverse=True)\n",
        "print(l)\n",
        "print(\"second highest number\",l[1])"
      ],
      "metadata": {
        "id": "caXgutH_XyiQ",
        "colab": {
          "base_uri": "https://localhost:8080/"
        },
        "outputId": "5d6f0d7b-891e-4de1-ccee-bc4d069018b8"
      },
      "execution_count": null,
      "outputs": [
        {
          "output_type": "stream",
          "name": "stdout",
          "text": [
            "enterthe size of the array4\n",
            "enter the numbers to add in the array5\n",
            "enter the numbers to add in the array3\n",
            "enter the numbers to add in the array6\n",
            "enter the numbers to add in the array3\n",
            "[6, 5, 3, 3]\n",
            "second highest number 5\n"
          ]
        }
      ]
    },
    {
      "cell_type": "markdown",
      "source": [
        "`Write a program in Python to check whether a number is palindrome or not using recursive method.`"
      ],
      "metadata": {
        "id": "SKmwU_oFQ-CQ"
      }
    },
    {
      "cell_type": "code",
      "source": [
        "def is_palindrome(n):\n",
        "    digits = str(n)\n",
        "    if len(digits) <=1:\n",
        "        return True\n",
        "    elif digits[0] != digits[-1]:\n",
        "        return False\n",
        "    else:\n",
        "        return is_palindrome(int(digits[1:-1]))\n",
        "\n",
        "n = int(input(\"Enter the number you want to check: \"))\n",
        "if is_palindrome(n):\n",
        "    print(\"The number is a palindrome.\")\n",
        "else:\n",
        "    print(\"The number is not a palindrome.\")\n",
        "\n"
      ],
      "metadata": {
        "id": "lM9gmDENRC3n",
        "colab": {
          "base_uri": "https://localhost:8080/"
        },
        "outputId": "6a5e9f4f-d608-4e58-ac96-b913b17d374d"
      },
      "execution_count": null,
      "outputs": [
        {
          "output_type": "stream",
          "name": "stdout",
          "text": [
            "Enter the number you want to check: 12\n",
            "The number is not a palindrome.\n"
          ]
        }
      ]
    },
    {
      "cell_type": "markdown",
      "source": [
        "`Write a program in Python to find top two maximum number in array`"
      ],
      "metadata": {
        "id": "6SuwTyWDtUlS"
      }
    },
    {
      "cell_type": "code",
      "source": [
        "n=int(input(\"enter the size of the array\"))\n",
        "l=[]\n",
        "for i in range(n):\n",
        "  num=int(input(\"enter the numbers to add in the array\"))\n",
        "  l.append(num)\n",
        "l.sort(reverse=True)\n",
        "print(l)\n",
        "print(\"top two maximum number are {} and {}\".format(l[0],l[1]))"
      ],
      "metadata": {
        "id": "d82f-cnXhE1C",
        "colab": {
          "base_uri": "https://localhost:8080/"
        },
        "outputId": "a2180cdb-567d-4799-bdc3-af374c01f378"
      },
      "execution_count": null,
      "outputs": [
        {
          "output_type": "stream",
          "name": "stdout",
          "text": [
            "enterthe size of the array5\n",
            "enter the numbers to add in the array2\n",
            "enter the numbers to add in the array98\n",
            "enter the numbers to add in the array124\n",
            "enter the numbers to add in the array2\n",
            "enter the numbers to add in the array44\n",
            "[124, 98, 44, 2, 2]\n",
            "top two maximum number are 124 and 98\n"
          ]
        }
      ]
    },
    {
      "cell_type": "markdown",
      "source": [
        "`Python program to check given character is digit or not by not using isdigit() method.`"
      ],
      "metadata": {
        "id": "s-iAqWSvvOrb"
      }
    },
    {
      "cell_type": "code",
      "source": [
        "\n",
        "ch = input(\"Enter a character : \") \n",
        "if ch >= '0' and ch <= '9': #unicode values of 0-48 1-49.......9==57 so if we enter character between these unicode valuesit will execute\n",
        "    \tprint(\"Given Character \", ch, \"is a Digit\")\n",
        "else:\n",
        "  \n",
        "    print(\"Given Character \", ch, \"is not a Digit\")\n"
      ],
      "metadata": {
        "colab": {
          "base_uri": "https://localhost:8080/"
        },
        "id": "VDpEBCcrvM-j",
        "outputId": "6ef1bc58-5155-4456-d9c0-ed16392667a8"
      },
      "execution_count": null,
      "outputs": [
        {
          "output_type": "stream",
          "name": "stdout",
          "text": [
            "Enter a character : 6\n",
            "Given Character  6 is a Digit\n"
          ]
        }
      ]
    },
    {
      "cell_type": "markdown",
      "source": [
        "to find the largest among three integers"
      ],
      "metadata": {
        "id": "eu3ZD_morKaC"
      }
    },
    {
      "cell_type": "code",
      "source": [
        "n=int(input(\"enter thee first integer\"))\n",
        "n2=int(input(\"enter thee first integer\"))\n",
        "n3=int(input(\"enter thee first integer\"))\n",
        "if n>n2 and n>n3:\n",
        "  print(\"{} is greatest among {} and {}\".format(n,n2,n3))\n",
        "elif n2>n3:\n",
        "  print(\"{} is greatest among {} and {}\".format(n2,n,n3))\n",
        "else:\n",
        "    print(\"{} is greatest among {} and {}\".format(n3,n,n2))\n"
      ],
      "metadata": {
        "colab": {
          "base_uri": "https://localhost:8080/"
        },
        "id": "MO7A9tilrJ9T",
        "outputId": "01a8ba43-a587-4ca4-9ea6-179853166760"
      },
      "execution_count": null,
      "outputs": [
        {
          "output_type": "stream",
          "name": "stdout",
          "text": [
            "enter thee first integer2\n",
            "enter thee first integer3\n",
            "enter thee first integer0\n",
            "3 is greatest among 2 and 0\n"
          ]
        }
      ]
    },
    {
      "cell_type": "markdown",
      "source": [
        "`Write a program in Python to check if a number is binary?`"
      ],
      "metadata": {
        "id": "EuOmNq5w1tge"
      }
    },
    {
      "cell_type": "code",
      "source": [
        "n=int(input(\"enter the number\"))\n",
        "n1=str(n)\n",
        "for i in n1:\n",
        "  if i=='0' or i=='1':\n",
        "      continue\n",
        "  else:\n",
        "    print(\"it is not binary number\")\n",
        "    break\n",
        "else:\n",
        "    print(\"it is binary number\")"
      ],
      "metadata": {
        "colab": {
          "base_uri": "https://localhost:8080/"
        },
        "id": "PofRKh1I1vn8",
        "outputId": "9f25d954-7cba-488d-dfcb-aee542ca8daf"
      },
      "execution_count": null,
      "outputs": [
        {
          "output_type": "stream",
          "name": "stdout",
          "text": [
            "enter the number010101\n",
            "it is binary number\n"
          ]
        }
      ]
    },
    {
      "cell_type": "markdown",
      "source": [
        "`Python program to replace the string space with a given character.`"
      ],
      "metadata": {
        "id": "jzW5mt7i4Kad"
      }
    },
    {
      "cell_type": "code",
      "source": [
        "string=input(\"enter the string\")\n",
        "char=input(\"enter the character you want to replace with space\")\n",
        "s=\"\"\n",
        "for i in string:\n",
        "  if i==\" \":\n",
        "    i=char\n",
        "  s+=i\n",
        "print(\"String after replacing spaces with\", char+ \":\", s)\n",
        "\n",
        "  "
      ],
      "metadata": {
        "colab": {
          "base_uri": "https://localhost:8080/"
        },
        "id": "NU6C8Ug44Net",
        "outputId": "b74be12e-3d5c-4efd-ffc2-c99f2f342371"
      },
      "execution_count": null,
      "outputs": [
        {
          "output_type": "stream",
          "name": "stdout",
          "text": [
            "enter the stringh me\n",
            "enter the character you want to replace with spaceo\n",
            "String after replacing spaces with o: home\n"
          ]
        }
      ]
    },
    {
      "cell_type": "markdown",
      "source": [
        "`Python program to replace the string space with a given character using replace() method.`"
      ],
      "metadata": {
        "id": "SXy6_Znh8-To"
      }
    },
    {
      "cell_type": "code",
      "source": [
        "string=input(\"enter the string\")\n",
        "char=input(\"enter the character you want to replace with space\")\n",
        "for i in string:\n",
        "  string.replace(i,\" \")\n",
        "print(\"String after replacing spaces with\", char+ \":\", s)\n"
      ],
      "metadata": {
        "colab": {
          "base_uri": "https://localhost:8080/"
        },
        "id": "EWLdp2U59CYJ",
        "outputId": "fc916cbd-4d1b-4e42-877c-44382f8cca0b"
      },
      "execution_count": null,
      "outputs": [
        {
          "output_type": "stream",
          "name": "stdout",
          "text": [
            "enter the stringh me\n",
            "enter the character you want to replace with spaceo\n",
            "String after replacing spaces with o: home\n"
          ]
        }
      ]
    },
    {
      "cell_type": "markdown",
      "source": [
        "`Write a program in Python to remove duplicate elements from array.`"
      ],
      "metadata": {
        "id": "czk83Eyxz6Bj"
      }
    },
    {
      "cell_type": "code",
      "source": [
        "n=int(input(\"enter the size of the array\"))\n",
        "l=[]\n",
        "l1=[]\n",
        "l2=[]\n",
        "for i in range(n):\n",
        "  num=int(input(\"enter the numbers to add in the array\"))\n",
        "  l.append(num)\n",
        "for k in l:\n",
        "  for j in l1:\n",
        "      if j[0]==k:\n",
        "         break\n",
        "  else:\n",
        "        l1.append([k,1])\n",
        "for val in l1:\n",
        "       l2.append(val[0])\n",
        "print(\"elements in the array after removing the duplicates\",l2)\n",
        "\n"
      ],
      "metadata": {
        "colab": {
          "base_uri": "https://localhost:8080/"
        },
        "id": "VF1_ysF3z-QE",
        "outputId": "087a09ea-79f6-43d4-eb18-269d8eae7a9f"
      },
      "execution_count": null,
      "outputs": [
        {
          "output_type": "stream",
          "name": "stdout",
          "text": [
            "enter the size of the array5\n",
            "enter the numbers to add in the array2\n",
            "enter the numbers to add in the array3\n",
            "enter the numbers to add in the array4\n",
            "enter the numbers to add in the array5\n",
            "enter the numbers to add in the array4\n",
            "elements in the array after removing the duplicates [2, 3, 4, 5]\n"
          ]
        }
      ]
    },
    {
      "cell_type": "markdown",
      "source": [
        "` calculate the sum of numbers from 1 to the given input n using recursion`\n",
        "\n",
        "\n",
        "\n"
      ],
      "metadata": {
        "id": "l3x50fT59iwN"
      }
    },
    {
      "cell_type": "code",
      "source": [
        "def sum_digits(n):\n",
        "  n1=n\n",
        "  if(n1==0 or n1==1):\n",
        "    return n1\n",
        "  else:\n",
        "    return (n1+sum_digits(n1-1))\n",
        "n=int(input(\"enter range\"))\n",
        "sum=sum_digits(n)\n",
        "print(\"sum of digits\",sum)"
      ],
      "metadata": {
        "id": "dhdpnzgz6-Fb",
        "colab": {
          "base_uri": "https://localhost:8080/"
        },
        "outputId": "655a3cc4-015c-4206-ff81-146daf010bbc"
      },
      "execution_count": null,
      "outputs": [
        {
          "output_type": "stream",
          "name": "stdout",
          "text": [
            "enter range7\n",
            "sum of digits 28\n"
          ]
        }
      ]
    },
    {
      "cell_type": "markdown",
      "source": [
        "`Write a program in Python to find sum of digits of a number using recursion?`"
      ],
      "metadata": {
        "id": "vEkGlrS1E2F8"
      }
    },
    {
      "cell_type": "code",
      "source": [
        "def sum_digits(n):\n",
        "  if(n<9):\n",
        "    return n\n",
        "  else:\n",
        "    if(n>0):\n",
        "      return n%10+sum_digits(n//10)\n",
        "n=int(input(\"enter number\"))\n",
        "sum=sum_digits(n)\n",
        "print(\"sum of digits of a number\",sum)"
      ],
      "metadata": {
        "colab": {
          "base_uri": "https://localhost:8080/"
        },
        "id": "6mDDfhdqE8ho",
        "outputId": "24c29542-04f0-43eb-d7d3-372421f71dd4"
      },
      "execution_count": null,
      "outputs": [
        {
          "output_type": "stream",
          "name": "stdout",
          "text": [
            "enter number1234\n",
            "sum of digits of a number 10\n"
          ]
        }
      ]
    },
    {
      "cell_type": "markdown",
      "source": [
        "`Python program to convert lowercase char to uppercase of string.`"
      ],
      "metadata": {
        "id": "_YOMwXvDG6kK"
      }
    },
    {
      "cell_type": "code",
      "source": [
        "string=input(\"enter the string\")\n",
        "string1=string.upper()\n",
        "print(string1)"
      ],
      "metadata": {
        "id": "KWG6XEGgF86i",
        "colab": {
          "base_uri": "https://localhost:8080/"
        },
        "outputId": "e88b4770-1a00-4bcd-b82f-b03a08c3f76a"
      },
      "execution_count": null,
      "outputs": [
        {
          "output_type": "stream",
          "name": "stdout",
          "text": [
            "enter the stringFunnY\n",
            "FUNNY\n"
          ]
        }
      ]
    },
    {
      "cell_type": "markdown",
      "source": [
        "`Python program to print array in reverse Order.`"
      ],
      "metadata": {
        "id": "KEUwalCRIL2c"
      }
    },
    {
      "cell_type": "code",
      "source": [
        "n=int(input(\"enterthe size of the array\"))\n",
        "l=[]\n",
        "l1=[]\n",
        "for i in range(n):\n",
        "  num=int(input(\"enter the numbers to add in the array\"))\n",
        "  l.append(num)\n",
        "last_index=n-1\n",
        "while(last_index>=0):\n",
        "  l1.append(l[last_index])\n",
        "  last_index-=1\n",
        "print(\"after reverse\",l1)\n",
        "\n"
      ],
      "metadata": {
        "id": "mbOa6yLQIO1I",
        "colab": {
          "base_uri": "https://localhost:8080/"
        },
        "outputId": "64c6a412-217f-486c-8dde-7ab6c967125b"
      },
      "execution_count": null,
      "outputs": [
        {
          "output_type": "stream",
          "name": "stdout",
          "text": [
            "enterthe size of the array5\n",
            "enter the numbers to add in the array4\n",
            "enter the numbers to add in the array3\n",
            "enter the numbers to add in the array4\n",
            "enter the numbers to add in the array3\n",
            "enter the numbers to add in the array2\n",
            "after reverse [2, 3, 4, 3, 4]\n"
          ]
        }
      ]
    },
    {
      "cell_type": "code",
      "source": [
        "#alternative way:\n",
        "n=int(input(\"enterthe size of the array\"))\n",
        "l=[]\n",
        "l1=[]\n",
        "for i in range(n):\n",
        "  num=int(input(\"enter the numbers to add in the array\"))\n",
        "  l.append(num)\n",
        "l.reverse()\n",
        "print(\"after reverse\",l)\n"
      ],
      "metadata": {
        "colab": {
          "base_uri": "https://localhost:8080/"
        },
        "id": "yozPDro6VEWg",
        "outputId": "0c88d570-9f06-43f9-dba1-0fdb1b9c5bd0"
      },
      "execution_count": null,
      "outputs": [
        {
          "output_type": "stream",
          "name": "stdout",
          "text": [
            "enterthe size of the array5\n",
            "enter the numbers to add in the array1\n",
            "enter the numbers to add in the array2\n",
            "enter the numbers to add in the array3\n",
            "enter the numbers to add in the array4\n",
            "enter the numbers to add in the array5\n",
            "after reverse [5, 4, 3, 2, 1]\n"
          ]
        }
      ]
    },
    {
      "cell_type": "markdown",
      "source": [
        "\n",
        "\n",
        "```\n",
        "Write a program in Python to swap two numbers without using third variable?\n",
        "```\n",
        "\n"
      ],
      "metadata": {
        "id": "f7zKJqPqPvHA"
      }
    },
    {
      "cell_type": "code",
      "source": [
        "l=[]\n",
        "a=int(input(\"enter number1\"))\n",
        "l.append(a)\n",
        "b=int(input(\"enter number2\"))\n",
        "l.append(b)\n",
        "l.reverse()\n",
        "b=l[1]\n",
        "a=l[0]\n",
        "print(\"a is {}\".format(a))\n",
        "print(\"b is {}\".format(b))\n",
        "\n"
      ],
      "metadata": {
        "colab": {
          "base_uri": "https://localhost:8080/"
        },
        "id": "cETt2gFGPys2",
        "outputId": "476aa038-194c-4690-a242-1f2f3c7e8990"
      },
      "execution_count": 3,
      "outputs": [
        {
          "output_type": "stream",
          "name": "stdout",
          "text": [
            "enter number14\n",
            "enter number25\n",
            "a is 5\n",
            "b is 4\n"
          ]
        }
      ]
    },
    {
      "cell_type": "markdown",
      "source": [
        "`Write a program in Python to swap two numbers using third variable?`"
      ],
      "metadata": {
        "id": "k2v0HBVSSVqz"
      }
    },
    {
      "cell_type": "code",
      "source": [
        "a=int(input(\"enter number1\"))\n",
        "b=int(input(\"enter number2\"))\n",
        "c=a\n",
        "a=b\n",
        "b=c\n",
        "print(\"a is {}\".format(a))\n",
        "print(\"b is {}\".format(b))"
      ],
      "metadata": {
        "colab": {
          "base_uri": "https://localhost:8080/"
        },
        "id": "Q-BudOd7SZuq",
        "outputId": "adc3c99e-2326-41a2-89d5-ee1c7d65e900"
      },
      "execution_count": 4,
      "outputs": [
        {
          "output_type": "stream",
          "name": "stdout",
          "text": [
            "enter number15\n",
            "enter number24\n",
            "a is 4\n",
            "b is 5\n"
          ]
        }
      ]
    },
    {
      "cell_type": "markdown",
      "source": [
        "`Convert Lowercase vowels to Uppercase by not using replace() method`"
      ],
      "metadata": {
        "id": "oyTMXw0dTF__"
      }
    },
    {
      "cell_type": "code",
      "source": [
        "string=input(\"enter the string to check\")\n",
        "vowel=[\"a\",\"e\",\"i\",\"o\",\"u\"]\n",
        "s=\"\"\n",
        "for char in string:\n",
        "  if char in vowel:\n",
        "    char1=char.upper()\n",
        "    s+=char1\n",
        "  else:\n",
        "    s+=char\n",
        "print(s)"
      ],
      "metadata": {
        "colab": {
          "base_uri": "https://localhost:8080/"
        },
        "id": "93RWRUJ509N-",
        "outputId": "7527be94-a4e6-4d4b-f23d-ff49a817b1be"
      },
      "execution_count": 11,
      "outputs": [
        {
          "output_type": "stream",
          "name": "stdout",
          "text": [
            "enter the string to checkhome\n",
            "hOmE\n"
          ]
        }
      ]
    },
    {
      "cell_type": "markdown",
      "source": [
        "`Convert Lowercase vowels to Uppercase by  using replace() method`"
      ],
      "metadata": {
        "id": "dmNG_xee2eds"
      }
    },
    {
      "cell_type": "code",
      "source": [
        "string=input(\"enter the string to check\")\n",
        "vowel=[\"a\",\"e\",\"i\",\"o\",\"u\"]\n",
        "for char in string:\n",
        "  if char in vowel:\n",
        "    char1=char.upper()\n",
        "    string=string.replace(char,char1)\n",
        "print(string)"
      ],
      "metadata": {
        "colab": {
          "base_uri": "https://localhost:8080/"
        },
        "id": "E3xoO9bo2jRo",
        "outputId": "fc1342cd-349d-4a57-b7e9-72c5b0667cfb"
      },
      "execution_count": 15,
      "outputs": [
        {
          "output_type": "stream",
          "name": "stdout",
          "text": [
            "enter the string to checkhome\n",
            "hOmE\n"
          ]
        }
      ]
    }
  ]
}