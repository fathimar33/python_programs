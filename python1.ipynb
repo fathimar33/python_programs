{
  "nbformat": 4,
  "nbformat_minor": 0,
  "metadata": {
    "colab": {
      "provenance": [],
      "authorship_tag": "ABX9TyM/iUcarMAYA+mzsBnFFPfA"
    },
    "kernelspec": {
      "name": "python3",
      "display_name": "Python 3"
    },
    "language_info": {
      "name": "python"
    }
  },
  "cells": [
    {
      "cell_type": "markdown",
      "source": [
        "`Python program to find the largest number in the array`"
      ],
      "metadata": {
        "id": "evwRjOJFel9X"
      }
    },
    {
      "cell_type": "code",
      "execution_count": null,
      "metadata": {
        "colab": {
          "base_uri": "https://localhost:8080/"
        },
        "id": "5valSG40eAmU",
        "outputId": "b34d7315-c554-455c-9058-172b325a3e57"
      },
      "outputs": [
        {
          "output_type": "stream",
          "name": "stdout",
          "text": [
            "Enter list size: 5\n",
            "Enter the number you want to add to the list: 4\n",
            "Enter the number you want to add to the list: 8\n",
            "Enter the number you want to add to the list: 7\n",
            "Enter the number you want to add to the list: 3\n",
            "Enter the number you want to add to the list: 2\n",
            "The largest number is: 8\n"
          ]
        }
      ],
      "source": [
        "class get_input():\n",
        "    def inp(self):\n",
        "        self.l = []\n",
        "        self.n = int(input(\"Enter list size: \"))\n",
        "        for i in range(self.n):\n",
        "            num = int(input(\"Enter the number you want to add to the list: \"))\n",
        "            self.l.append(num)\n",
        "\n",
        "class large(get_input):\n",
        "    def find_lar(self):\n",
        "        get_input.inp(self)\n",
        "        n1 = 0\n",
        "        big = self.l[n1]\n",
        "        while n1 < len(self.l):\n",
        "            m = n1 + 1\n",
        "            while m < len(self.l):\n",
        "                if self.l[m] > big:\n",
        "                    big = self.l[m]\n",
        "                m += 1\n",
        "            n1 += 1\n",
        "        print(\"The largest number is:\", big)\n",
        "\n",
        "obj1 = large()\n",
        "obj1.find_lar()\n",
        "\n"
      ]
    },
    {
      "cell_type": "markdown",
      "source": [
        "`Write a program in Python to check whether a number is palindrome or not using iterative method.`\n",
        "\n"
      ],
      "metadata": {
        "id": "-w_lEQeOKzjO"
      }
    },
    {
      "cell_type": "code",
      "source": [
        "a=input(\"enter the number\")\n",
        "b=a[::-1]\n",
        "a=int(a)\n",
        "b=int(b)\n",
        "print(type(a))\n",
        "if(a==b):\n",
        "  print(\"the given number is palindrome\")\n",
        "else:\n",
        "  print(\"the given number is not palindrome\")"
      ],
      "metadata": {
        "colab": {
          "base_uri": "https://localhost:8080/"
        },
        "id": "UHDxnN2bKvhP",
        "outputId": "4978d96b-3a74-44ab-db7d-0fa016a8566d"
      },
      "execution_count": null,
      "outputs": [
        {
          "output_type": "stream",
          "name": "stdout",
          "text": [
            "enter the number121\n",
            "<class 'int'>\n",
            "the given number is palindrome\n"
          ]
        }
      ]
    }
  ]
}