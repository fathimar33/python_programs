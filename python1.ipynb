{
  "nbformat": 4,
  "nbformat_minor": 0,
  "metadata": {
    "colab": {
      "provenance": [],
      "authorship_tag": "ABX9TyOIT5h0tH36jT9cxviicIHw"
    },
    "kernelspec": {
      "name": "python3",
      "display_name": "Python 3"
    },
    "language_info": {
      "name": "python"
    }
  },
  "cells": [
    {
      "cell_type": "markdown",
      "source": [
        "`Python program to find the largest number in the array`"
      ],
      "metadata": {
        "id": "evwRjOJFel9X"
      }
    },
    {
      "cell_type": "code",
      "execution_count": null,
      "metadata": {
        "colab": {
          "base_uri": "https://localhost:8080/"
        },
        "id": "5valSG40eAmU",
        "outputId": "b34d7315-c554-455c-9058-172b325a3e57"
      },
      "outputs": [
        {
          "output_type": "stream",
          "name": "stdout",
          "text": [
            "Enter list size: 5\n",
            "Enter the number you want to add to the list: 4\n",
            "Enter the number you want to add to the list: 8\n",
            "Enter the number you want to add to the list: 7\n",
            "Enter the number you want to add to the list: 3\n",
            "Enter the number you want to add to the list: 2\n",
            "The largest number is: 8\n"
          ]
        }
      ],
      "source": [
        "class get_input():\n",
        "    def inp(self):\n",
        "        self.l = []\n",
        "        self.n = int(input(\"Enter list size: \"))\n",
        "        for i in range(self.n):\n",
        "            num = int(input(\"Enter the number you want to add to the list: \"))\n",
        "            self.l.append(num)\n",
        "\n",
        "class large(get_input):\n",
        "    def find_lar(self):\n",
        "        get_input.inp(self)\n",
        "        n1 = 0\n",
        "        big = self.l[n1]\n",
        "        while n1 < len(self.l):\n",
        "            m = n1 + 1\n",
        "            while m < len(self.l):\n",
        "                if self.l[m] > big:\n",
        "                    big = self.l[m]\n",
        "                m += 1\n",
        "            n1 += 1\n",
        "        print(\"The largest number is:\", big)\n",
        "\n",
        "obj1 = large()\n",
        "obj1.find_lar()\n",
        "\n"
      ]
    },
    {
      "cell_type": "markdown",
      "source": [
        "`Write a program in Python to check whether a number is palindrome or not using iterative method.`\n",
        "\n"
      ],
      "metadata": {
        "id": "-w_lEQeOKzjO"
      }
    },
    {
      "cell_type": "code",
      "source": [
        "a=input(\"enter the number\")\n",
        "b=a[::-1]\n",
        "a=int(a)\n",
        "b=int(b)\n",
        "print(type(a))\n",
        "if(a==b):\n",
        "  print(\"the given number is palindrome\")\n",
        "else:\n",
        "  print(\"the given number is not palindrome\")"
      ],
      "metadata": {
        "colab": {
          "base_uri": "https://localhost:8080/"
        },
        "id": "UHDxnN2bKvhP",
        "outputId": "4978d96b-3a74-44ab-db7d-0fa016a8566d"
      },
      "execution_count": null,
      "outputs": [
        {
          "output_type": "stream",
          "name": "stdout",
          "text": [
            "enter the number121\n",
            "<class 'int'>\n",
            "the given number is palindrome\n"
          ]
        }
      ]
    },
    {
      "cell_type": "markdown",
      "source": [
        "`Python program to check given character is digit or not.`"
      ],
      "metadata": {
        "id": "FChcyTFhvSoF"
      }
    },
    {
      "cell_type": "code",
      "source": [
        "flag=True\n",
        "while flag:\n",
        "    char=input(\"enter the character\")\n",
        "    if char.isdigit():\n",
        "      print(\"you entered the digit\")\n",
        "      flag=False\n"
      ],
      "metadata": {
        "colab": {
          "base_uri": "https://localhost:8080/"
        },
        "id": "Z__tHNGvvU_d",
        "outputId": "3c96938b-c885-446c-af74-52cd682bdc8e"
      },
      "execution_count": null,
      "outputs": [
        {
          "output_type": "stream",
          "name": "stdout",
          "text": [
            "enter the characterw\n",
            "enter the characterw\n",
            "enter the character1\n",
            "you entered the digit\n"
          ]
        }
      ]
    },
    {
      "cell_type": "markdown",
      "source": [
        "`Write a program in Python to find second highest number in an integer array.`"
      ],
      "metadata": {
        "id": "G0Yiw_4GXtpe"
      }
    },
    {
      "cell_type": "code",
      "source": [
        "n=int(input(\"enterthe size of the array\"))\n",
        "l=[]\n",
        "for i in range(n):\n",
        "  num=int(input(\"enter the numbers to add in the array\"))\n",
        "  l.append(num)\n",
        "l.sort(reverse=True)\n",
        "print(l)\n",
        "print(\"second highest number\",l[1])"
      ],
      "metadata": {
        "id": "caXgutH_XyiQ",
        "colab": {
          "base_uri": "https://localhost:8080/"
        },
        "outputId": "5d6f0d7b-891e-4de1-ccee-bc4d069018b8"
      },
      "execution_count": null,
      "outputs": [
        {
          "output_type": "stream",
          "name": "stdout",
          "text": [
            "enterthe size of the array4\n",
            "enter the numbers to add in the array5\n",
            "enter the numbers to add in the array3\n",
            "enter the numbers to add in the array6\n",
            "enter the numbers to add in the array3\n",
            "[6, 5, 3, 3]\n",
            "second highest number 5\n"
          ]
        }
      ]
    },
    {
      "cell_type": "markdown",
      "source": [
        "`Write a program in Python to check whether a number is palindrome or not using recursive method.`"
      ],
      "metadata": {
        "id": "SKmwU_oFQ-CQ"
      }
    },
    {
      "cell_type": "code",
      "source": [
        "def is_palindrome(n):\n",
        "    digits = str(n)\n",
        "    if len(digits) <=1:\n",
        "        return True\n",
        "    elif digits[0] != digits[-1]:\n",
        "        return False\n",
        "    else:\n",
        "        return is_palindrome(int(digits[1:-1]))\n",
        "\n",
        "n = int(input(\"Enter the number you want to check: \"))\n",
        "if is_palindrome(n):\n",
        "    print(\"The number is a palindrome.\")\n",
        "else:\n",
        "    print(\"The number is not a palindrome.\")\n",
        "\n"
      ],
      "metadata": {
        "id": "lM9gmDENRC3n",
        "colab": {
          "base_uri": "https://localhost:8080/"
        },
        "outputId": "6a5e9f4f-d608-4e58-ac96-b913b17d374d"
      },
      "execution_count": null,
      "outputs": [
        {
          "output_type": "stream",
          "name": "stdout",
          "text": [
            "Enter the number you want to check: 12\n",
            "The number is not a palindrome.\n"
          ]
        }
      ]
    },
    {
      "cell_type": "markdown",
      "source": [
        "`Write a program in Python to find top two maximum number in array`"
      ],
      "metadata": {
        "id": "6SuwTyWDtUlS"
      }
    },
    {
      "cell_type": "code",
      "source": [
        "n=int(input(\"enter the size of the array\"))\n",
        "l=[]\n",
        "for i in range(n):\n",
        "  num=int(input(\"enter the numbers to add in the array\"))\n",
        "  l.append(num)\n",
        "l.sort(reverse=True)\n",
        "print(l)\n",
        "print(\"top two maximum number are {} and {}\".format(l[0],l[1]))"
      ],
      "metadata": {
        "id": "d82f-cnXhE1C",
        "colab": {
          "base_uri": "https://localhost:8080/"
        },
        "outputId": "a2180cdb-567d-4799-bdc3-af374c01f378"
      },
      "execution_count": null,
      "outputs": [
        {
          "output_type": "stream",
          "name": "stdout",
          "text": [
            "enterthe size of the array5\n",
            "enter the numbers to add in the array2\n",
            "enter the numbers to add in the array98\n",
            "enter the numbers to add in the array124\n",
            "enter the numbers to add in the array2\n",
            "enter the numbers to add in the array44\n",
            "[124, 98, 44, 2, 2]\n",
            "top two maximum number are 124 and 98\n"
          ]
        }
      ]
    },
    {
      "cell_type": "markdown",
      "source": [
        "`Python program to check given character is digit or not by not using isdigit() method.`"
      ],
      "metadata": {
        "id": "s-iAqWSvvOrb"
      }
    },
    {
      "cell_type": "code",
      "source": [
        "\n",
        "ch = input(\"Enter a character : \") \n",
        "if ch >= '0' and ch <= '9': #unicode values of 0-48 1-49.......9==57 so if we enter character between these unicode valuesit will execute\n",
        "    \tprint(\"Given Character \", ch, \"is a Digit\")\n",
        "else:\n",
        "  \n",
        "    print(\"Given Character \", ch, \"is not a Digit\")\n"
      ],
      "metadata": {
        "colab": {
          "base_uri": "https://localhost:8080/"
        },
        "id": "VDpEBCcrvM-j",
        "outputId": "6ef1bc58-5155-4456-d9c0-ed16392667a8"
      },
      "execution_count": null,
      "outputs": [
        {
          "output_type": "stream",
          "name": "stdout",
          "text": [
            "Enter a character : 6\n",
            "Given Character  6 is a Digit\n"
          ]
        }
      ]
    },
    {
      "cell_type": "markdown",
      "source": [
        "to find the largest among three integers"
      ],
      "metadata": {
        "id": "eu3ZD_morKaC"
      }
    },
    {
      "cell_type": "code",
      "source": [
        "n=int(input(\"enter thee first integer\"))\n",
        "n2=int(input(\"enter thee first integer\"))\n",
        "n3=int(input(\"enter thee first integer\"))\n",
        "if n>n2 and n>n3:\n",
        "  print(\"{} is greatest among {} and {}\".format(n,n2,n3))\n",
        "elif n2>n3:\n",
        "  print(\"{} is greatest among {} and {}\".format(n2,n,n3))\n",
        "else:\n",
        "    print(\"{} is greatest among {} and {}\".format(n3,n,n2))\n"
      ],
      "metadata": {
        "colab": {
          "base_uri": "https://localhost:8080/"
        },
        "id": "MO7A9tilrJ9T",
        "outputId": "01a8ba43-a587-4ca4-9ea6-179853166760"
      },
      "execution_count": null,
      "outputs": [
        {
          "output_type": "stream",
          "name": "stdout",
          "text": [
            "enter thee first integer2\n",
            "enter thee first integer3\n",
            "enter thee first integer0\n",
            "3 is greatest among 2 and 0\n"
          ]
        }
      ]
    },
    {
      "cell_type": "markdown",
      "source": [
        "`Write a program in Python to check if a number is binary?`"
      ],
      "metadata": {
        "id": "EuOmNq5w1tge"
      }
    },
    {
      "cell_type": "code",
      "source": [
        "n=int(input(\"enter the number\"))\n",
        "n1=str(n)\n",
        "for i in n1:\n",
        "  if i=='0' or i=='1':\n",
        "      continue\n",
        "  else:\n",
        "    print(\"it is not binary number\")\n",
        "    break\n",
        "else:\n",
        "    print(\"it is binary number\")"
      ],
      "metadata": {
        "colab": {
          "base_uri": "https://localhost:8080/"
        },
        "id": "PofRKh1I1vn8",
        "outputId": "9f25d954-7cba-488d-dfcb-aee542ca8daf"
      },
      "execution_count": null,
      "outputs": [
        {
          "output_type": "stream",
          "name": "stdout",
          "text": [
            "enter the number010101\n",
            "it is binary number\n"
          ]
        }
      ]
    },
    {
      "cell_type": "markdown",
      "source": [
        "`Python program to replace the string space with a given character.`"
      ],
      "metadata": {
        "id": "jzW5mt7i4Kad"
      }
    },
    {
      "cell_type": "code",
      "source": [
        "string=input(\"enter the string\")\n",
        "char=input(\"enter the character you want to replace with space\")\n",
        "s=\"\"\n",
        "for i in string:\n",
        "  if i==\" \":\n",
        "    i=char\n",
        "  s+=i\n",
        "print(\"String after replacing spaces with\", char+ \":\", s)\n",
        "\n",
        "  "
      ],
      "metadata": {
        "colab": {
          "base_uri": "https://localhost:8080/"
        },
        "id": "NU6C8Ug44Net",
        "outputId": "b74be12e-3d5c-4efd-ffc2-c99f2f342371"
      },
      "execution_count": null,
      "outputs": [
        {
          "output_type": "stream",
          "name": "stdout",
          "text": [
            "enter the stringh me\n",
            "enter the character you want to replace with spaceo\n",
            "String after replacing spaces with o: home\n"
          ]
        }
      ]
    },
    {
      "cell_type": "markdown",
      "source": [
        "`Python program to replace the string space with a given character using replace() method.`"
      ],
      "metadata": {
        "id": "SXy6_Znh8-To"
      }
    },
    {
      "cell_type": "code",
      "source": [
        "string=input(\"enter the string\")\n",
        "char=input(\"enter the character you want to replace with space\")\n",
        "for i in string:\n",
        "  string.replace(i,\" \")\n",
        "print(\"String after replacing spaces with\", char+ \":\", s)\n"
      ],
      "metadata": {
        "colab": {
          "base_uri": "https://localhost:8080/"
        },
        "id": "EWLdp2U59CYJ",
        "outputId": "fc916cbd-4d1b-4e42-877c-44382f8cca0b"
      },
      "execution_count": null,
      "outputs": [
        {
          "output_type": "stream",
          "name": "stdout",
          "text": [
            "enter the stringh me\n",
            "enter the character you want to replace with spaceo\n",
            "String after replacing spaces with o: home\n"
          ]
        }
      ]
    },
    {
      "cell_type": "markdown",
      "source": [
        "`Write a program in Python to remove duplicate elements from array.`"
      ],
      "metadata": {
        "id": "czk83Eyxz6Bj"
      }
    },
    {
      "cell_type": "code",
      "source": [
        "n=int(input(\"enter the size of the array\"))\n",
        "l=[]\n",
        "l1=[]\n",
        "l2=[]\n",
        "for i in range(n):\n",
        "  num=int(input(\"enter the numbers to add in the array\"))\n",
        "  l.append(num)\n",
        "for k in l:\n",
        "  for j in l1:\n",
        "      if j[0]==k:\n",
        "         break\n",
        "  else:\n",
        "        l1.append([k,1])\n",
        "for val in l1:\n",
        "       l2.append(val[0])\n",
        "print(\"elements in the array after removing the duplicates\",l2)\n",
        "\n"
      ],
      "metadata": {
        "colab": {
          "base_uri": "https://localhost:8080/"
        },
        "id": "VF1_ysF3z-QE",
        "outputId": "087a09ea-79f6-43d4-eb18-269d8eae7a9f"
      },
      "execution_count": null,
      "outputs": [
        {
          "output_type": "stream",
          "name": "stdout",
          "text": [
            "enter the size of the array5\n",
            "enter the numbers to add in the array2\n",
            "enter the numbers to add in the array3\n",
            "enter the numbers to add in the array4\n",
            "enter the numbers to add in the array5\n",
            "enter the numbers to add in the array4\n",
            "elements in the array after removing the duplicates [2, 3, 4, 5]\n"
          ]
        }
      ]
    },
    {
      "cell_type": "markdown",
      "source": [
        "` calculate the sum of numbers from 1 to the given input n using recursion`\n",
        "\n",
        "\n",
        "\n"
      ],
      "metadata": {
        "id": "l3x50fT59iwN"
      }
    },
    {
      "cell_type": "code",
      "source": [
        "def sum_digits(n):\n",
        "  n1=n\n",
        "  if(n1==0 or n1==1):\n",
        "    return n1\n",
        "  else:\n",
        "    return (n1+sum_digits(n1-1))\n",
        "n=int(input(\"enter range\"))\n",
        "sum=sum_digits(n)\n",
        "print(\"sum of digits\",sum)"
      ],
      "metadata": {
        "id": "dhdpnzgz6-Fb",
        "colab": {
          "base_uri": "https://localhost:8080/"
        },
        "outputId": "655a3cc4-015c-4206-ff81-146daf010bbc"
      },
      "execution_count": null,
      "outputs": [
        {
          "output_type": "stream",
          "name": "stdout",
          "text": [
            "enter range7\n",
            "sum of digits 28\n"
          ]
        }
      ]
    },
    {
      "cell_type": "markdown",
      "source": [
        "`Write a program in Python to find sum of digits of a number using recursion?`"
      ],
      "metadata": {
        "id": "vEkGlrS1E2F8"
      }
    },
    {
      "cell_type": "code",
      "source": [
        "def sum_digits(n):\n",
        "  if(n<9):\n",
        "    return n\n",
        "  else:\n",
        "    if(n>0):\n",
        "      return n%10+sum_digits(n//10)\n",
        "n=int(input(\"enter number\"))\n",
        "sum=sum_digits(n)\n",
        "print(\"sum of digits of a number\",sum)"
      ],
      "metadata": {
        "colab": {
          "base_uri": "https://localhost:8080/"
        },
        "id": "6mDDfhdqE8ho",
        "outputId": "24c29542-04f0-43eb-d7d3-372421f71dd4"
      },
      "execution_count": null,
      "outputs": [
        {
          "output_type": "stream",
          "name": "stdout",
          "text": [
            "enter number1234\n",
            "sum of digits of a number 10\n"
          ]
        }
      ]
    },
    {
      "cell_type": "markdown",
      "source": [
        "`Python program to convert lowercase char to uppercase of string.`"
      ],
      "metadata": {
        "id": "_YOMwXvDG6kK"
      }
    },
    {
      "cell_type": "code",
      "source": [
        "string=input(\"enter the string\")\n",
        "string1=string.upper()\n",
        "print(string1)"
      ],
      "metadata": {
        "id": "KWG6XEGgF86i",
        "colab": {
          "base_uri": "https://localhost:8080/"
        },
        "outputId": "e88b4770-1a00-4bcd-b82f-b03a08c3f76a"
      },
      "execution_count": null,
      "outputs": [
        {
          "output_type": "stream",
          "name": "stdout",
          "text": [
            "enter the stringFunnY\n",
            "FUNNY\n"
          ]
        }
      ]
    },
    {
      "cell_type": "markdown",
      "source": [
        "`Python program to print array in reverse Order.`"
      ],
      "metadata": {
        "id": "KEUwalCRIL2c"
      }
    },
    {
      "cell_type": "code",
      "source": [
        "n=int(input(\"enterthe size of the array\"))\n",
        "l=[]\n",
        "l1=[]\n",
        "for i in range(n):\n",
        "  num=int(input(\"enter the numbers to add in the array\"))\n",
        "  l.append(num)\n",
        "last_index=n-1\n",
        "while(last_index>=0):\n",
        "  l1.append(l[last_index])\n",
        "  last_index-=1\n",
        "print(\"after reverse\",l1)\n",
        "\n"
      ],
      "metadata": {
        "id": "mbOa6yLQIO1I",
        "colab": {
          "base_uri": "https://localhost:8080/"
        },
        "outputId": "64c6a412-217f-486c-8dde-7ab6c967125b"
      },
      "execution_count": null,
      "outputs": [
        {
          "output_type": "stream",
          "name": "stdout",
          "text": [
            "enterthe size of the array5\n",
            "enter the numbers to add in the array4\n",
            "enter the numbers to add in the array3\n",
            "enter the numbers to add in the array4\n",
            "enter the numbers to add in the array3\n",
            "enter the numbers to add in the array2\n",
            "after reverse [2, 3, 4, 3, 4]\n"
          ]
        }
      ]
    },
    {
      "cell_type": "code",
      "source": [
        "#alternative way:\n",
        "n=int(input(\"enterthe size of the array\"))\n",
        "l=[]\n",
        "l1=[]\n",
        "for i in range(n):\n",
        "  num=int(input(\"enter the numbers to add in the array\"))\n",
        "  l.append(num)\n",
        "l.reverse()\n",
        "print(\"after reverse\",l)\n"
      ],
      "metadata": {
        "colab": {
          "base_uri": "https://localhost:8080/"
        },
        "id": "yozPDro6VEWg",
        "outputId": "0c88d570-9f06-43f9-dba1-0fdb1b9c5bd0"
      },
      "execution_count": null,
      "outputs": [
        {
          "output_type": "stream",
          "name": "stdout",
          "text": [
            "enterthe size of the array5\n",
            "enter the numbers to add in the array1\n",
            "enter the numbers to add in the array2\n",
            "enter the numbers to add in the array3\n",
            "enter the numbers to add in the array4\n",
            "enter the numbers to add in the array5\n",
            "after reverse [5, 4, 3, 2, 1]\n"
          ]
        }
      ]
    },
    {
      "cell_type": "markdown",
      "source": [
        "\n",
        "\n",
        "```\n",
        "Write a program in Python to swap two numbers without using third variable?\n",
        "```\n",
        "\n"
      ],
      "metadata": {
        "id": "f7zKJqPqPvHA"
      }
    },
    {
      "cell_type": "code",
      "source": [
        "l=[]\n",
        "a=int(input(\"enter number1\"))\n",
        "l.append(a)\n",
        "b=int(input(\"enter number2\"))\n",
        "l.append(b)\n",
        "l.reverse()\n",
        "b=l[1]\n",
        "a=l[0]\n",
        "print(\"a is {}\".format(a))\n",
        "print(\"b is {}\".format(b))\n",
        "\n"
      ],
      "metadata": {
        "colab": {
          "base_uri": "https://localhost:8080/"
        },
        "id": "cETt2gFGPys2",
        "outputId": "476aa038-194c-4690-a242-1f2f3c7e8990"
      },
      "execution_count": null,
      "outputs": [
        {
          "output_type": "stream",
          "name": "stdout",
          "text": [
            "enter number14\n",
            "enter number25\n",
            "a is 5\n",
            "b is 4\n"
          ]
        }
      ]
    },
    {
      "cell_type": "markdown",
      "source": [
        "`Write a program in Python to swap two numbers using third variable?`"
      ],
      "metadata": {
        "id": "k2v0HBVSSVqz"
      }
    },
    {
      "cell_type": "code",
      "source": [
        "a=int(input(\"enter number1\"))\n",
        "b=int(input(\"enter number2\"))\n",
        "c=a\n",
        "a=b\n",
        "b=c\n",
        "print(\"a is {}\".format(a))\n",
        "print(\"b is {}\".format(b))"
      ],
      "metadata": {
        "colab": {
          "base_uri": "https://localhost:8080/"
        },
        "id": "Q-BudOd7SZuq",
        "outputId": "adc3c99e-2326-41a2-89d5-ee1c7d65e900"
      },
      "execution_count": null,
      "outputs": [
        {
          "output_type": "stream",
          "name": "stdout",
          "text": [
            "enter number15\n",
            "enter number24\n",
            "a is 4\n",
            "b is 5\n"
          ]
        }
      ]
    },
    {
      "cell_type": "markdown",
      "source": [
        "`Convert Lowercase vowels to Uppercase by not using replace() method`"
      ],
      "metadata": {
        "id": "oyTMXw0dTF__"
      }
    },
    {
      "cell_type": "code",
      "source": [
        "string=input(\"enter the string to check\")\n",
        "vowel=[\"a\",\"e\",\"i\",\"o\",\"u\"]\n",
        "s=\"\"\n",
        "for char in string:\n",
        "  if char in vowel:\n",
        "    char1=char.upper()\n",
        "    s+=char1\n",
        "  else:\n",
        "    s+=char\n",
        "print(s)"
      ],
      "metadata": {
        "colab": {
          "base_uri": "https://localhost:8080/"
        },
        "id": "93RWRUJ509N-",
        "outputId": "7527be94-a4e6-4d4b-f23d-ff49a817b1be"
      },
      "execution_count": null,
      "outputs": [
        {
          "output_type": "stream",
          "name": "stdout",
          "text": [
            "enter the string to checkhome\n",
            "hOmE\n"
          ]
        }
      ]
    },
    {
      "cell_type": "markdown",
      "source": [
        "`Convert Lowercase vowels to Uppercase by  using replace() method`"
      ],
      "metadata": {
        "id": "dmNG_xee2eds"
      }
    },
    {
      "cell_type": "code",
      "source": [
        "string=input(\"enter the string to check\")\n",
        "vowel=[\"a\",\"e\",\"i\",\"o\",\"u\"]\n",
        "for char in string:\n",
        "  if char in vowel:\n",
        "    char1=char.upper()\n",
        "    string=string.replace(char,char1)\n",
        "print(string)"
      ],
      "metadata": {
        "colab": {
          "base_uri": "https://localhost:8080/"
        },
        "id": "E3xoO9bo2jRo",
        "outputId": "9227b346-cbd1-4075-d73f-e816d7568f59"
      },
      "execution_count": null,
      "outputs": [
        {
          "output_type": "stream",
          "name": "stdout",
          "text": [
            "enter the string to checkhome\n",
            "hOmE\n"
          ]
        }
      ]
    },
    {
      "cell_type": "markdown",
      "source": [
        "\n",
        "\n",
        "```\n",
        "Python program to delete vowels in a given string.\n",
        "```\n",
        "\n"
      ],
      "metadata": {
        "id": "ASF-zgoQ4R7a"
      }
    },
    {
      "cell_type": "code",
      "source": [
        "string=input(\"enter the string to check\")\n",
        "vowel=[\"a\",\"e\",\"i\",\"o\",\"u\"]\n",
        "s=\"\"\n",
        "for char in string:\n",
        "  if char in vowel:\n",
        "    continue\n",
        "  else:\n",
        "    s+=char\n",
        "print(s)"
      ],
      "metadata": {
        "colab": {
          "base_uri": "https://localhost:8080/"
        },
        "id": "AZLNQg0C4eY_",
        "outputId": "43c0197f-a5fa-43b9-b01b-85ae4066d8da"
      },
      "execution_count": null,
      "outputs": [
        {
          "output_type": "stream",
          "name": "stdout",
          "text": [
            "enter the string to checkhome\n",
            "hm\n"
          ]
        }
      ]
    },
    {
      "cell_type": "markdown",
      "source": [
        "`Python Program to calculate length of an array using length fuction`"
      ],
      "metadata": {
        "id": "xfU9HMwx594e"
      }
    },
    {
      "cell_type": "code",
      "source": [
        "n=int(input(\"enter the size of the array\"))\n",
        "l=[]\n",
        "for i in range(n):\n",
        "  num=int(input(\"enter the numbers to add in the array\"))\n",
        "  l.append(num)\n",
        "print(\"length of the array is\",len(l))"
      ],
      "metadata": {
        "colab": {
          "base_uri": "https://localhost:8080/"
        },
        "id": "I16lWDHX6AlQ",
        "outputId": "4d3b84b4-ccf3-4356-c8f4-ddb954d887ad"
      },
      "execution_count": null,
      "outputs": [
        {
          "output_type": "stream",
          "name": "stdout",
          "text": [
            "enter the size of the array3\n",
            "enter the numbers to add in the array1\n",
            "enter the numbers to add in the array2\n",
            "enter the numbers to add in the array3\n",
            "length of the array is 3\n"
          ]
        }
      ]
    },
    {
      "cell_type": "markdown",
      "source": [
        "`Python Program to calculate length of an array by not using length fuction`"
      ],
      "metadata": {
        "id": "ZdADP14d7DQ-"
      }
    },
    {
      "cell_type": "code",
      "source": [
        "n=int(input(\"enter the size of the array\"))\n",
        "l=[]\n",
        "for i in range(n):\n",
        "  num=int(input(\"enter the numbers to add in the array\"))\n",
        "  l.append(num)\n",
        "count=0\n",
        "for j in l:\n",
        "  count+=1\n",
        "print(\"length of the array is\",count)"
      ],
      "metadata": {
        "colab": {
          "base_uri": "https://localhost:8080/"
        },
        "id": "Utsl4HOW7KSM",
        "outputId": "cd3d53bc-b9be-426a-c075-3a58551732e5"
      },
      "execution_count": null,
      "outputs": [
        {
          "output_type": "stream",
          "name": "stdout",
          "text": [
            "enter the size of the array3\n",
            "enter the numbers to add in the array1\n",
            "enter the numbers to add in the array2\n",
            "enter the numbers to add in the array3\n",
            "length of the array is 3\n"
          ]
        }
      ]
    },
    {
      "cell_type": "markdown",
      "source": [
        "writea python program to finbd the prime factors of a number"
      ],
      "metadata": {
        "id": "Do7jqT-6c7BK"
      }
    },
    {
      "cell_type": "code",
      "source": [
        "n = int(input(\"Enter the number: \"))\n",
        "l = []\n",
        "l2 = []\n",
        "\n",
        "for i in range(1, n + 1):\n",
        "    if n % i == 0:\n",
        "        l.append(i)\n",
        "print(\"Factors:\", l)\n",
        "for j in l:\n",
        "    for k in range(2, j):\n",
        "        if j % k == 0:\n",
        "            break\n",
        "    else:\n",
        "        l2.append(j)\n",
        "print(\"Prime factors:\", l2)\n"
      ],
      "metadata": {
        "colab": {
          "base_uri": "https://localhost:8080/"
        },
        "id": "0WCJhfJQc6f3",
        "outputId": "0c4465d5-d9f2-4ba1-efbc-8cf84b863ffb"
      },
      "execution_count": null,
      "outputs": [
        {
          "output_type": "stream",
          "name": "stdout",
          "text": [
            "Enter the number: 24\n",
            "Factors: [1, 2, 3, 4, 6, 8, 12, 24]\n",
            "Prime factors: [1, 2, 3]\n"
          ]
        }
      ]
    },
    {
      "cell_type": "markdown",
      "source": [
        "Python program to count the Occurrence Of Vowels & Consonants in a String."
      ],
      "metadata": {
        "id": "B4A9qE9KOFjG"
      }
    },
    {
      "cell_type": "code",
      "source": [
        "string=input(\"enter the string\")\n",
        "count_v=0\n",
        "count_c=0\n",
        "for char in string:\n",
        "  if char in[\"a\",\"e\",\"i\",\"o\",\"u\"]:\n",
        "    count_v+=1\n",
        "  else:\n",
        "    count_c+=1\n",
        "print(\"number of vowels in string\",count_v)\n",
        "print(\"number of consonant in string\",count_c)\n",
        "\n"
      ],
      "metadata": {
        "id": "JaYjzfWMeJXH",
        "colab": {
          "base_uri": "https://localhost:8080/"
        },
        "outputId": "eb7fcd08-8f3f-4e53-e1e4-06dd04ce4cf0"
      },
      "execution_count": null,
      "outputs": [
        {
          "output_type": "stream",
          "name": "stdout",
          "text": [
            "enter the stringhome\n",
            "number of vowels in string 2\n",
            "number of consonant in string 2\n"
          ]
        }
      ]
    },
    {
      "cell_type": "markdown",
      "source": [
        "`Write a program in Python to add two integer without using arithmetic operator?`"
      ],
      "metadata": {
        "id": "Ddf9ru4i5yNZ"
      }
    },
    {
      "cell_type": "code",
      "source": [
        "n1=int(input(\"enter the first integer\"))\n",
        "n2=int(input(\"enter the second integer\"))\n",
        "l=[]\n",
        "l.append(n1)\n",
        "l.append(n2)\n",
        "print(\"sum of two integers\",sum(l)) "
      ],
      "metadata": {
        "id": "R-IACO9kUZ3b",
        "colab": {
          "base_uri": "https://localhost:8080/"
        },
        "outputId": "f400f72e-9ff8-4712-97dc-6adb4e955797"
      },
      "execution_count": null,
      "outputs": [
        {
          "output_type": "stream",
          "name": "stdout",
          "text": [
            "enter the first integer5\n",
            "enter the second integer99\n",
            "sum of two integers 104\n"
          ]
        }
      ]
    },
    {
      "cell_type": "markdown",
      "source": [
        "`Python program to print the highest frequency character in a String.`"
      ],
      "metadata": {
        "id": "E3BR6ZNT-tXN"
      }
    },
    {
      "cell_type": "code",
      "source": [
        "string=input(\"enter the string\")\n",
        "l=[]\n",
        "l2=[]\n",
        "for char in string:\n",
        "  for j in l:\n",
        "    if char==j[0]:\n",
        "      j[1]+=1\n",
        "      break\n",
        "  else:\n",
        "      l.append([char,1])\n",
        "print(l)\n",
        "for k in l:\n",
        "   l2.append(k[1])\n",
        "n=max(l2)\n",
        "for m in l:\n",
        "    if m[1]==n:\n",
        "      print(\"Highest frequency character \",m,end=\" \")"
      ],
      "metadata": {
        "colab": {
          "base_uri": "https://localhost:8080/"
        },
        "id": "xqzZq6m7-wjE",
        "outputId": "d2ac9670-6208-42f2-d8f4-b4f71a56707d"
      },
      "execution_count": null,
      "outputs": [
        {
          "output_type": "stream",
          "name": "stdout",
          "text": [
            "enter the stringhello world\n",
            "[['h', 1], ['e', 1], ['l', 3], ['o', 2], [' ', 1], ['w', 1], ['r', 1], ['d', 1]]\n",
            "Highest frequency character  ['l', 3] "
          ]
        }
      ]
    },
    {
      "cell_type": "markdown",
      "source": [
        "`write a program to insert integer in particular position`"
      ],
      "metadata": {
        "id": "IwudtptbNMOq"
      }
    },
    {
      "cell_type": "code",
      "source": [
        "a=[1,5,6,7]\n",
        "n=int(input(\"enter the number you want to add\"))\n",
        "a.insert(3,n)\n",
        "print(\"the list is\",a)"
      ],
      "metadata": {
        "id": "now5_KhzLU0p",
        "colab": {
          "base_uri": "https://localhost:8080/"
        },
        "outputId": "96d88343-07d0-4fa2-9085-a11280216e4f"
      },
      "execution_count": null,
      "outputs": [
        {
          "output_type": "stream",
          "name": "stdout",
          "text": [
            "enter the number you want to add99\n",
            "the list is [1, 5, 6, 99, 7]\n"
          ]
        }
      ]
    },
    {
      "cell_type": "markdown",
      "source": [
        "`Python Program to find factors using recursion.`"
      ],
      "metadata": {
        "id": "R15tVH84oDNe"
      }
    },
    {
      "cell_type": "code",
      "source": [
        "def fact(i, l, n):\n",
        "    if n == 1:\n",
        "        l.append(n)\n",
        "        return l\n",
        "    if i > n:\n",
        "        return l\n",
        "    if n % i == 0:\n",
        "        l.append(i)\n",
        "    fact(i + 1, l, n)\n",
        "\n",
        "i = 1\n",
        "l = []\n",
        "n = int(input(\"Enter the number: \"))\n",
        "fact(i, l, n)\n",
        "print(f\"The factors of {n} are {l}\")\n"
      ],
      "metadata": {
        "colab": {
          "base_uri": "https://localhost:8080/"
        },
        "id": "hcaBuaitoIIe",
        "outputId": "213a4179-f786-4e04-8273-033c4bf22cc3"
      },
      "execution_count": null,
      "outputs": [
        {
          "output_type": "stream",
          "name": "stdout",
          "text": [
            "Enter the number: 24\n",
            "The factors of 24 are [1, 2, 3, 4, 6, 8, 12, 24]\n"
          ]
        }
      ]
    },
    {
      "cell_type": "markdown",
      "source": [
        "`Write a program in Python to find given number is perfect or not?`"
      ],
      "metadata": {
        "id": "FLySLdke5LcP"
      }
    },
    {
      "cell_type": "code",
      "source": [
        "def fact(i, l, n):\n",
        "    if n == 1:\n",
        "        l.append(n)\n",
        "        return l\n",
        "    if i >= n:\n",
        "        return l\n",
        "    if n % i == 0:\n",
        "        l.append(i)\n",
        "    return fact(i + 1, l, n)\n",
        "\n",
        "i = 1\n",
        "l = []\n",
        "n = int(input(\"Enter the number: \"))\n",
        "factors=fact(i, l, n)\n",
        "if sum(factors)==n:\n",
        "  print(f\"{n} is perfect\")\n",
        "else:\n",
        "  print(f\"{n} is not perfect\")"
      ],
      "metadata": {
        "colab": {
          "base_uri": "https://localhost:8080/"
        },
        "id": "zS7mPyck5Ej1",
        "outputId": "fdcce3ed-6f1a-4730-e9e1-5f9f7a82f646"
      },
      "execution_count": null,
      "outputs": [
        {
          "output_type": "stream",
          "name": "stdout",
          "text": [
            "Enter the number: 28\n",
            "28 is perfect\n"
          ]
        }
      ]
    },
    {
      "cell_type": "markdown",
      "source": [
        "`Python Program to find the Average of numbers`"
      ],
      "metadata": {
        "id": "OPbORinp7VGT"
      }
    },
    {
      "cell_type": "code",
      "source": [
        "num=int(input(\"enter how many numbers\"))\n",
        "l=[]\n",
        "for i in range(num):\n",
        "  n=float(input(\"enter the number\"))\n",
        "  l.append(n)\n",
        "import numpy as np\n",
        "print(f\"average is {np.mean(l)}\")\n",
        "\n",
        "  "
      ],
      "metadata": {
        "id": "SDMP9jI_6oQE",
        "colab": {
          "base_uri": "https://localhost:8080/"
        },
        "outputId": "212b0032-5fd8-4bd4-e1bf-b2de4f50487d"
      },
      "execution_count": null,
      "outputs": [
        {
          "output_type": "stream",
          "name": "stdout",
          "text": [
            "enter how many numbers3\n",
            "enter the number3\n",
            "enter the number3\n",
            "enter the number3\n",
            "average is 3.0\n"
          ]
        }
      ]
    },
    {
      "cell_type": "markdown",
      "source": [
        "\n",
        "\n",
        "```\n",
        "Python program to Replace First Occurrence Of Vowel With ‘-‘ in String.(without replace function)\n",
        "```\n",
        "\n"
      ],
      "metadata": {
        "id": "CayBpKe0C7kv"
      }
    },
    {
      "cell_type": "code",
      "source": [
        "string=input(\"enter the string\")\n",
        "vowel=[\"a\",\"e\",\"i\",\"o\",\"u\",\"A\",\"E\",\"I\",\"O\",\"U\"]\n",
        "for i in range (len(string)):\n",
        "    if string[i] in vowel:\n",
        "         string =string[:i]+\"-\"+string[i+1:]\n",
        "         break\n",
        "print(string)\n"
      ],
      "metadata": {
        "colab": {
          "base_uri": "https://localhost:8080/"
        },
        "id": "aoaZJnGOC6y5",
        "outputId": "3449371a-82dc-41d4-c036-25fee643e2ab"
      },
      "execution_count": null,
      "outputs": [
        {
          "output_type": "stream",
          "name": "stdout",
          "text": [
            "enter the stringhi\n",
            "h-\n"
          ]
        }
      ]
    },
    {
      "cell_type": "markdown",
      "source": [
        "```\n",
        "Python program to Replace First Occurrence Of Vowel With ‘-‘ in String.(with replace function)\n",
        "```"
      ],
      "metadata": {
        "id": "UhwcrfxeHTMk"
      }
    },
    {
      "cell_type": "code",
      "source": [
        "string=input(\"enter the string\")\n",
        "vowel=[\"a\",\"e\",\"i\",\"o\",\"u\",\"A\",\"E\",\"I\",\"O\",\"U\"]\n",
        "for i in string:\n",
        "  if i in vowel:\n",
        "    string=string.replace(i,\"-\")\n",
        "    break\n",
        "print(f\"after replacement:{string}\")"
      ],
      "metadata": {
        "colab": {
          "base_uri": "https://localhost:8080/"
        },
        "id": "jLSSw5o6GkNT",
        "outputId": "358eb32b-5dbf-4812-eed3-f9656bdb043e"
      },
      "execution_count": null,
      "outputs": [
        {
          "output_type": "stream",
          "name": "stdout",
          "text": [
            "enter the stringhi\n",
            "after replacement:h-\n"
          ]
        }
      ]
    },
    {
      "cell_type": "markdown",
      "source": [
        "\n",
        "```\n",
        "Python program to count alphabets, digits and special characters.\n",
        "```\n",
        "\n"
      ],
      "metadata": {
        "id": "J3lhWpJ-IkCO"
      }
    },
    {
      "cell_type": "code",
      "source": [
        "count_a=0\n",
        "count_d=0\n",
        "count_s=0\n",
        "string=input(\"enter the string\")\n",
        "l=len([i for i in string if i.isdigit()])\n",
        "l1=len([i for i in string if i.isalpha()])\n",
        "l2 = len([i for i in string if not i.isdigit() and not i.isalpha()])\n",
        "print(f\"Number of numerical characters:: {l}\")\n",
        "print(f\"Number of alphabet characters:: {l1}\")\n",
        "print(f\"Number of special characters:: {l2}\")\n",
        "\n",
        "\n",
        "\n",
        "\n"
      ],
      "metadata": {
        "colab": {
          "base_uri": "https://localhost:8080/"
        },
        "id": "F3U_AtKo5djU",
        "outputId": "7a769d7a-7eed-4586-a0b0-37a4c72a9686"
      },
      "execution_count": null,
      "outputs": [
        {
          "output_type": "stream",
          "name": "stdout",
          "text": [
            "enter the stringhomeland_33\n",
            "Number of numerical characters:: 2\n",
            "Number of alphabet characters:: 8\n",
            "Number of special characters:: 1\n"
          ]
        }
      ]
    },
    {
      "cell_type": "markdown",
      "source": [
        "\n",
        "\n",
        "```\n",
        "Python Program to delete element at end of Array.\n",
        "\n",
        "```\n",
        "\n"
      ],
      "metadata": {
        "id": "7VN9_IaJSTGU"
      }
    },
    {
      "cell_type": "code",
      "source": [
        "class inp:\n",
        "  def __init__(self):\n",
        "    print(\"Program to delete element at end of Array\")\n",
        "  def get(self):\n",
        "    self.n=int(input(\"how many numbers in the array\"))\n",
        "  def input(self):\n",
        "    inp.get(self)\n",
        "    self.l=[]\n",
        "    for i in range(self.n):\n",
        "      num=int(input(\"enter the number to add in the list\"))\n",
        "      self.l.append(num)\n",
        "  def calc(self):\n",
        "    inp.input(self)\n",
        "    self.l.pop()\n",
        "    return self.l\n",
        "obj1=inp()\n",
        "a=obj1.calc()\n",
        "print(f\"after deleting : {a}\")\n"
      ],
      "metadata": {
        "id": "fkQN17Nj72qx",
        "colab": {
          "base_uri": "https://localhost:8080/"
        },
        "outputId": "98a869f1-5d0b-471b-874d-d65eecac32c9"
      },
      "execution_count": null,
      "outputs": [
        {
          "output_type": "stream",
          "name": "stdout",
          "text": [
            "Program to delete element at end of Array\n",
            "how many numbers in the array4\n",
            "enter the number to add in the list1\n",
            "enter the number to add in the list2\n",
            "enter the number to add in the list3\n",
            "enter the number to add in the list4\n",
            "after deleting : [1, 2, 3]\n"
          ]
        }
      ]
    },
    {
      "cell_type": "markdown",
      "source": [
        "\n",
        "\n",
        "```\n",
        "Python Program to delete given element from Array.\n",
        "```\n",
        "\n",
        "---\n",
        "\n",
        "\n",
        "\n"
      ],
      "metadata": {
        "id": "aOSwa9qNVbo3"
      }
    },
    {
      "cell_type": "code",
      "source": [
        "class inp:\n",
        "  def __init__(self):\n",
        "    print(\"Program to delete element at end of Array\")\n",
        "  def get(self):\n",
        "    self.n=int(input(\"how many numbers in the array\"))\n",
        "  def input(self):\n",
        "    inp.get(self)\n",
        "    self.l=[]\n",
        "    for i in range(self.n):\n",
        "      num=int(input(\"enter the number to add in the list\"))\n",
        "      self.l.append(num)\n",
        "class calc(inp):\n",
        "  def cal(self):\n",
        "    inp.input(self)\n",
        "    n1=int(input(\"enter the element to delete\"))\n",
        "    l1=[]\n",
        "    for j in self.l:\n",
        "      if j==n1:\n",
        "        continue\n",
        "      else:\n",
        "        l1.append(j4)\n",
        "    return l1\n",
        "obj1=calc()\n",
        "a=obj1.cal()\n",
        "print(f\"after deleting : {a}\")"
      ],
      "metadata": {
        "colab": {
          "base_uri": "https://localhost:8080/"
        },
        "id": "JIAxkZmFVnQC",
        "outputId": "3d0682cc-487e-4ad9-afa5-1282b6c5269e"
      },
      "execution_count": null,
      "outputs": [
        {
          "output_type": "stream",
          "name": "stdout",
          "text": [
            "Program to delete element at end of Array\n",
            "how many numbers in the array4\n",
            "enter the number to add in the list1\n",
            "enter the number to add in the list2\n",
            "enter the number to add in the list3\n",
            "enter the number to add in the list4\n",
            "enter the element to delete3\n",
            "after deleting : [1, 2, 4]\n"
          ]
        }
      ]
    },
    {
      "cell_type": "code",
      "source": [
        "#alternative"
      ],
      "metadata": {
        "id": "N7SHpNQYXm1f"
      },
      "execution_count": null,
      "outputs": []
    },
    {
      "cell_type": "code",
      "source": [
        "class inp:\n",
        "  def __init__(self):\n",
        "    print(\"Program to delete element at end of Array\")\n",
        "  def get(self):\n",
        "    self.n=int(input(\"how many numbers in the array\"))\n",
        "  def input(self):\n",
        "    inp.get(self)\n",
        "    self.l=[]\n",
        "    for i in range(self.n):\n",
        "      num=int(input(\"enter the number to add in the list\"))\n",
        "      self.l.append(num)\n",
        "class calc(inp):\n",
        "  def cal(self):\n",
        "    inp.input(self)\n",
        "    n1=int(input(\"enter the element to delete\"))\n",
        "    l1=[]\n",
        "    if n1 in self.l:\n",
        "       self.l.remove(n1)\n",
        "    return self.l\n",
        "obj1=calc()\n",
        "a=obj1.cal()\n",
        "print(f\"after deleting : {a}\")"
      ],
      "metadata": {
        "colab": {
          "base_uri": "https://localhost:8080/"
        },
        "id": "5gbcRxB7X1q9",
        "outputId": "18ddc48d-225e-4049-d8ce-78fbdfda2c11"
      },
      "execution_count": null,
      "outputs": [
        {
          "output_type": "stream",
          "name": "stdout",
          "text": [
            "Program to delete element at end of Array\n",
            "how many numbers in the array4\n",
            "enter the number to add in the list1\n",
            "enter the number to add in the list3\n",
            "enter the number to add in the list5\n",
            "enter the number to add in the list7\n",
            "enter the element to delete3\n",
            "after deleting : [1, 5, 7]\n"
          ]
        }
      ]
    },
    {
      "cell_type": "markdown",
      "source": [
        "\n",
        "```\n",
        "Python Program to calculate factorial using iterative method.\n",
        "```\n",
        "\n"
      ],
      "metadata": {
        "id": "iYAXDIyclkiZ"
      }
    },
    {
      "cell_type": "code",
      "source": [
        "def fact(n):\n",
        "  fact=1\n",
        "  while(n>0):\n",
        "    fact=fact*n\n",
        "    n-=1\n",
        "  return fact\n",
        "n=int(input(\"enter the number you want to find the factorial\"))\n",
        "a=fact(n)\n",
        "print(f\"factorial of a number is {a}\")"
      ],
      "metadata": {
        "colab": {
          "base_uri": "https://localhost:8080/"
        },
        "id": "JzZbTiKCYVaA",
        "outputId": "00930115-8ed5-4c0b-ef43-dcfd3ead958b"
      },
      "execution_count": null,
      "outputs": [
        {
          "output_type": "stream",
          "name": "stdout",
          "text": [
            "enter the number you want to find the factorial5\n",
            "factorial of a number is 120\n"
          ]
        }
      ]
    },
    {
      "cell_type": "markdown",
      "source": [
        "\n",
        "\n",
        "```\n",
        "Python Program to calculate factorial using recursion.\n",
        "```\n",
        "\n"
      ],
      "metadata": {
        "id": "D-gEV1FmCS5y"
      }
    },
    {
      "cell_type": "code",
      "source": [
        "def fact(n):\n",
        "  if n==1 or n==0:\n",
        "    return 1\n",
        "  if(n>0):\n",
        "     return n*fact(n-1)\n",
        "    \n",
        "n=int(input(\"enter the number you want to find the factorial\"))\n",
        "a=fact(n)\n",
        "print(f\"factorial of a number is {a}\")"
      ],
      "metadata": {
        "colab": {
          "base_uri": "https://localhost:8080/"
        },
        "id": "FdlY3PzNCWkQ",
        "outputId": "c1d14d6f-1611-4d2d-bbc9-16f16d154fd0"
      },
      "execution_count": null,
      "outputs": [
        {
          "output_type": "stream",
          "name": "stdout",
          "text": [
            "enter the number you want to find the factorial5\n",
            "factorial of a number is 120\n"
          ]
        }
      ]
    },
    {
      "cell_type": "markdown",
      "source": [
        "\n",
        "\n",
        "```\n",
        "Python program to separate characters in a given string using map function.\n",
        "```\n",
        "\n"
      ],
      "metadata": {
        "id": "BnNy4nmaGpe9"
      }
    },
    {
      "cell_type": "code",
      "source": [
        "def sep():\n",
        "  a=\"hello\"\n",
        "  list(map(lambda x:print(x,\"\\n\"),a))\n",
        "sep()\n"
      ],
      "metadata": {
        "colab": {
          "base_uri": "https://localhost:8080/"
        },
        "id": "kQrNSO24GtOp",
        "outputId": "28c321ab-ee0e-486f-e2d1-7c2afd85a89a"
      },
      "execution_count": null,
      "outputs": [
        {
          "output_type": "stream",
          "name": "stdout",
          "text": [
            "h \n",
            "\n",
            "e \n",
            "\n",
            "l \n",
            "\n",
            "l \n",
            "\n",
            "o \n",
            "\n"
          ]
        }
      ]
    },
    {
      "cell_type": "markdown",
      "source": [
        "\n",
        "\n",
        "```\n",
        "Python program to remove blank space from string.\n",
        "```\n",
        "\n"
      ],
      "metadata": {
        "id": "KgI9r9rMJbI8"
      }
    },
    {
      "cell_type": "code",
      "source": [
        "string = \"      gaya     \"\n",
        "string = string.strip()\n",
        "print(string)\n"
      ],
      "metadata": {
        "colab": {
          "base_uri": "https://localhost:8080/"
        },
        "id": "1Kyja-NGJeBk",
        "outputId": "d37bfb86-77e4-4c1f-ffb6-b3fd7216263a"
      },
      "execution_count": null,
      "outputs": [
        {
          "output_type": "stream",
          "name": "stdout",
          "text": [
            "gaya\n"
          ]
        }
      ]
    },
    {
      "cell_type": "markdown",
      "source": [
        "\n",
        "\n",
        "```\n",
        "Python Program to find sum of array elements.\n",
        "```\n",
        "\n"
      ],
      "metadata": {
        "id": "gn3BpjTiKIpw"
      }
    },
    {
      "cell_type": "code",
      "source": [
        "class inp:\n",
        "  def __init__(self):\n",
        "    print(\"Program to delete element at end of Array\")\n",
        "  def get(self):\n",
        "    self.n=int(input(\"how many numbers in the array\"))\n",
        "  def input(self):\n",
        "    inp.get(self)\n",
        "    self.l=[]\n",
        "    for i in range(self.n):\n",
        "      num=int(input(\"enter the number to add in the list\"))\n",
        "      self.l.append(num)\n",
        "class calc(inp):\n",
        "  def cal(self):\n",
        "    inp.input(self)\n",
        "    add=sum(self.l)\n",
        "    return add\n",
        "obj1=calc()\n",
        "a=obj1.cal()\n",
        "print(f\"sum of integers in array : {a}\")"
      ],
      "metadata": {
        "colab": {
          "base_uri": "https://localhost:8080/"
        },
        "id": "oept6_5HKvWr",
        "outputId": "524d59ff-fe99-4ad8-cafd-3cc271cf540d"
      },
      "execution_count": null,
      "outputs": [
        {
          "output_type": "stream",
          "name": "stdout",
          "text": [
            "Program to delete element at end of Array\n",
            "how many numbers in the array6\n",
            "enter the number to add in the list22\n",
            "enter the number to add in the list44\n",
            "enter the number to add in the list55\n",
            "enter the number to add in the list66\n",
            "enter the number to add in the list77\n",
            "enter the number to add in the list8\n",
            "sum of integers in array : 272\n"
          ]
        }
      ]
    },
    {
      "cell_type": "markdown",
      "source": [
        "Python Program to reverse a string without slicing\n",
        "\n",
        "\n"
      ],
      "metadata": {
        "id": "GR0pH9YFL91F"
      }
    },
    {
      "cell_type": "code",
      "source": [
        "a=\"my name is gaya\"\n",
        "s=\"\"\n",
        "s=s.join(a[-i] for i in range(1,len(a)+1))\n",
        "print(s)"
      ],
      "metadata": {
        "colab": {
          "base_uri": "https://localhost:8080/"
        },
        "id": "wj2zTYTdTRAr",
        "outputId": "1fc3c3bb-e7dd-4848-8eb9-72797f5196f3"
      },
      "execution_count": null,
      "outputs": [
        {
          "output_type": "stream",
          "name": "stdout",
          "text": [
            "ayag si eman ym\n"
          ]
        }
      ]
    },
    {
      "cell_type": "markdown",
      "source": [
        "\n",
        "\n",
        "```\n",
        "Python Program to check a given number is even or odd.\n",
        "```\n",
        "\n",
        "\n"
      ],
      "metadata": {
        "id": "KD6F316m0pls"
      }
    },
    {
      "cell_type": "code",
      "source": [
        "n=int(input(\"enter the number to check\"))\n",
        "if n%2==0:\n",
        "  print(f\"{n} is even\")\n",
        "else:\n",
        "  print(f\"{n} is odd\")"
      ],
      "metadata": {
        "colab": {
          "base_uri": "https://localhost:8080/"
        },
        "id": "DtzkmYYi0nar",
        "outputId": "51333527-c0a5-4277-eb3c-8625abd657a5"
      },
      "execution_count": null,
      "outputs": [
        {
          "output_type": "stream",
          "name": "stdout",
          "text": [
            "enter the number to check4\n",
            "4 is even\n"
          ]
        }
      ]
    },
    {
      "cell_type": "markdown",
      "source": [
        "\n",
        "\n",
        "```\n",
        "Python program to print first n Prime Number.\n",
        "```\n",
        "\n"
      ],
      "metadata": {
        "id": "8Ce9Dexw1NOv"
      }
    },
    {
      "cell_type": "code",
      "source": [
        "n = int(input(\"Enter the range: \"))\n",
        "for i in range(1, n + 1):\n",
        "    is_prime = True\n",
        "    for j in range(2, i):\n",
        "        if i % j == 0:\n",
        "            is_prime = False\n",
        "            break\n",
        "    if is_prime:\n",
        "        print(f\"{i} is prime\")\n",
        "    else:\n",
        "        print(f\"{i} is not prime\")\n"
      ],
      "metadata": {
        "colab": {
          "base_uri": "https://localhost:8080/"
        },
        "id": "5Xk54YQA1RYl",
        "outputId": "7b03c73a-e353-4aae-b230-519a8eea25cc"
      },
      "execution_count": null,
      "outputs": [
        {
          "output_type": "stream",
          "name": "stdout",
          "text": [
            "Enter the range: 19\n",
            "1 is prime\n",
            "2 is prime\n",
            "3 is prime\n",
            "4 is not prime\n",
            "5 is prime\n",
            "6 is not prime\n",
            "7 is prime\n",
            "8 is not prime\n",
            "9 is not prime\n",
            "10 is not prime\n",
            "11 is prime\n",
            "12 is not prime\n",
            "13 is prime\n",
            "14 is not prime\n",
            "15 is not prime\n",
            "16 is not prime\n",
            "17 is prime\n",
            "18 is not prime\n",
            "19 is prime\n"
          ]
        }
      ]
    },
    {
      "cell_type": "markdown",
      "source": [
        "\n",
        "\n",
        "```\n",
        "Python program to concatenate two strings using join() method.\n",
        "```\n",
        "\n"
      ],
      "metadata": {
        "id": "o4cpRrK77TmO"
      }
    },
    {
      "cell_type": "code",
      "source": [
        "s1=input(\"enter string 1\")\n",
        "s2=input(\"enter string 2\")\n",
        "s=\" \".join([s1,s2]) #give as a list\n",
        "print(f\"after concatenation: {s}\")"
      ],
      "metadata": {
        "colab": {
          "base_uri": "https://localhost:8080/"
        },
        "id": "bxM6Z13M7cH4",
        "outputId": "16ce4285-6a3e-4742-ab51-ef3c9724dab0"
      },
      "execution_count": null,
      "outputs": [
        {
          "output_type": "stream",
          "name": "stdout",
          "text": [
            "enter string 1hello\n",
            "enter string 2world\n",
            "after concatenation: hello world\n"
          ]
        }
      ]
    },
    {
      "cell_type": "markdown",
      "source": [
        "\n",
        "\n",
        "```\n",
        "Python program to concatenate two strings without using join() method.\n",
        "```\n",
        "\n"
      ],
      "metadata": {
        "id": "SKSBWYaV9cV3"
      }
    },
    {
      "cell_type": "code",
      "source": [
        "s1=input(\"enter string 1\")\n",
        "s2=input(\"enter string 2\")\n",
        "s=\"\"+s1+\" \"+s2 #give as a list\n",
        "print(f\"after concatenation: {s}\")"
      ],
      "metadata": {
        "colab": {
          "base_uri": "https://localhost:8080/"
        },
        "id": "iADJf9mi9fj9",
        "outputId": "919b5a70-da0f-4a46-d867-264e8e484012"
      },
      "execution_count": null,
      "outputs": [
        {
          "output_type": "stream",
          "name": "stdout",
          "text": [
            "enter string 1hello\n",
            "enter string 2world\n",
            "after concatenation:  hello world\n"
          ]
        }
      ]
    },
    {
      "cell_type": "markdown",
      "source": [
        "\n",
        "\n",
        "```\n",
        "Python Program to print all even numbers and odd numbers in array.\n",
        "```\n",
        "\n"
      ],
      "metadata": {
        "id": "XmZnIucD-SPp"
      }
    },
    {
      "cell_type": "code",
      "source": [
        "class inp:\n",
        "  def get(self):\n",
        "    self.n=int(input(\"how many numbers in the array\"))\n",
        "  def get_input(self):\n",
        "    inp.get(self)\n",
        "    self.l=[]\n",
        "    for i in range(self.n):\n",
        "      num=int(input(\"enter the number to add in the list\"))\n",
        "      self.l.append(num)\n",
        "class even(inp):\n",
        "  def __init__(self):\n",
        "    print(\"Even numbers in the list\")\n",
        "  def cal(self):\n",
        "    inp.get_input(self)\n",
        "    l1=[]\n",
        "    for i in self.l:\n",
        "      if i%2==0:\n",
        "        l1.append(i)\n",
        "    return l1\n",
        "class odd(inp):\n",
        "  def __init__(self):\n",
        "    print(\"Odd numbers in the list\")\n",
        "  def cal(self):\n",
        "    self.get_input()\n",
        "    l2=[]\n",
        "    for i in self.l:\n",
        "      if i%2!=0:\n",
        "        l2.append(i)\n",
        "    return l2\n",
        "for i in [\"even\", \"odd\"]:\n",
        "    cls = globals()[i]  # Get the class by name from the global namespace\n",
        "    obj = cls()  # Create an instance of the class\n",
        "    result = obj.cal()  # Call the 'cal' method\n",
        "    print(f\"result: {result}\")"
      ],
      "metadata": {
        "colab": {
          "base_uri": "https://localhost:8080/"
        },
        "id": "Vu8q5bKG-R1y",
        "outputId": "2be87122-8c7f-4701-908f-a8878d114e6e"
      },
      "execution_count": null,
      "outputs": [
        {
          "output_type": "stream",
          "name": "stdout",
          "text": [
            "Even numbers in the list\n",
            "how many numbers in the array5\n",
            "enter the number to add in the list1\n",
            "enter the number to add in the list2\n",
            "enter the number to add in the list3\n",
            "enter the number to add in the list4\n",
            "enter the number to add in the list5\n",
            "result: [2, 4]\n",
            "Odd numbers in the list\n",
            "how many numbers in the array4\n",
            "enter the number to add in the list1\n",
            "enter the number to add in the list3\n",
            "enter the number to add in the list4\n",
            "enter the number to add in the list5\n",
            "result: [1, 3, 5]\n"
          ]
        }
      ]
    },
    {
      "cell_type": "code",
      "source": [
        "class inp:\n",
        "  def get(self):\n",
        "    self.n=int(input(\"how many numbers in the array\"))\n",
        "  def get_input(self):\n",
        "    inp.get(self)\n",
        "    self.l=[]\n",
        "    for i in range(self.n):\n",
        "      num=int(input(\"enter the number to add in the list\"))\n",
        "      self.l.append(num)\n",
        "class even(inp):\n",
        "  def __init__(self):\n",
        "    print(\"Even numbers in the list\")\n",
        "  def cal(self):\n",
        "    inp.get_input(self)\n",
        "    l1=[]\n",
        "    for i in self.l:\n",
        "      if i%2==0:\n",
        "        l1.append(i)\n",
        "    return l1\n",
        "class odd(inp):\n",
        "  def __init__(self):\n",
        "    print(\"Odd numbers in the list\")\n",
        "  def cal1(self):\n",
        "    l2=[]\n",
        "    for i in self.l:\n",
        "      if i%2!=0:\n",
        "        l2.append(i)\n",
        "    return l2\n",
        "class calculation(even,odd):\n",
        "  def calci(self):\n",
        "        a=self.cal()\n",
        "        b=self.cal1()\n",
        "        print(\"even numbers in the list\",a)\n",
        "        print(\"odd numbers in the list\",b)\n",
        "obj1=calculation()\n",
        "obj1.calci()\n",
        "\n"
      ],
      "metadata": {
        "colab": {
          "base_uri": "https://localhost:8080/"
        },
        "id": "_2goBGZFGB2P",
        "outputId": "2b8bddc4-2455-4ce5-c5ab-decda74b188f"
      },
      "execution_count": null,
      "outputs": [
        {
          "output_type": "stream",
          "name": "stdout",
          "text": [
            "Even numbers in the list\n",
            "how many numbers in the array5\n",
            "enter the number to add in the list1\n",
            "enter the number to add in the list2\n",
            "enter the number to add in the list3\n",
            "enter the number to add in the list4\n",
            "enter the number to add in the list5\n",
            "even numbers in the list [2, 4]\n",
            "odd numbers in the list [1, 3, 5]\n"
          ]
        }
      ]
    },
    {
      "cell_type": "markdown",
      "source": [
        "\n",
        "\n",
        "```\n",
        "Python Program to find Smallest number among three.\n",
        "```\n",
        "\n"
      ],
      "metadata": {
        "id": "lSvdtP7n6jXB"
      }
    },
    {
      "cell_type": "code",
      "source": [
        "n=int(input(\"enter the first integer\"))\n",
        "n2=int(input(\"enter the first integer\"))\n",
        "n3=int(input(\"enter the first integer\"))\n",
        "if n<n2 and n<n3:\n",
        "  print(\"{} is smallest among {} and {}\".format(n,n2,n3))\n",
        "elif n2<n3:\n",
        "  print(\"{} is smallest among {} and {}\".format(n2,n,n3))\n",
        "else:\n",
        "    print(\"{} is smallest among {} and {}\".format(n3,n,n2))\n"
      ],
      "metadata": {
        "id": "bISmUJFn7b4Y",
        "colab": {
          "base_uri": "https://localhost:8080/"
        },
        "outputId": "f7c5a2d4-dc61-45cd-8b8c-cf7d035c0688"
      },
      "execution_count": 2,
      "outputs": [
        {
          "output_type": "stream",
          "name": "stdout",
          "text": [
            "enter the first integer12\n",
            "enter the first integer13\n",
            "enter the first integer5\n",
            "5 is smallest among 12 and 13\n"
          ]
        }
      ]
    },
    {
      "cell_type": "markdown",
      "source": [
        "\n",
        "\n",
        "```\n",
        "Python program to remove repeated character from string.\n",
        "```\n",
        "\n"
      ],
      "metadata": {
        "id": "AfZl3LUavuXD"
      }
    },
    {
      "cell_type": "code",
      "source": [
        "string=input(\"enter the string\")\n",
        "l=[i for i in string]\n",
        "import pandas as pd\n",
        "s=pd.Series(l)\n",
        "s=s.drop_duplicates()\n",
        "s1=\"\"\n",
        "for j in s:\n",
        "  s1=s1+j\n",
        "print(f\"After removing the repeated characters from the string : {s1}\")"
      ],
      "metadata": {
        "colab": {
          "base_uri": "https://localhost:8080/"
        },
        "id": "iyr6Zy-hvuAb",
        "outputId": "22fb5ed0-2d98-41dc-8033-f195079a4b72"
      },
      "execution_count": 28,
      "outputs": [
        {
          "output_type": "stream",
          "name": "stdout",
          "text": [
            "enter the stringhello\n",
            "After removing the repeated characters from the string : helo\n"
          ]
        }
      ]
    },
    {
      "cell_type": "code",
      "source": [],
      "metadata": {
        "id": "o1eZtQBUyUoG"
      },
      "execution_count": null,
      "outputs": []
    }
  ]
}