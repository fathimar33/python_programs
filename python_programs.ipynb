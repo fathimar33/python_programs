{
  "nbformat": 4,
  "nbformat_minor": 0,
  "metadata": {
    "colab": {
      "provenance": [],
      "authorship_tag": "ABX9TyP2ratWc0R9lEaJKVDY5Sn+"
    },
    "kernelspec": {
      "name": "python3",
      "display_name": "Python 3"
    },
    "language_info": {
      "name": "python"
    }
  },
  "cells": [
    {
      "cell_type": "markdown",
      "source": [
        "Python Program to Check if a Number is Odd or Even.\n"
      ],
      "metadata": {
        "id": "nUGPK36aMcFs"
      }
    },
    {
      "cell_type": "code",
      "execution_count": 8,
      "metadata": {
        "colab": {
          "base_uri": "https://localhost:8080/"
        },
        "id": "qLMe4S7fMB1h",
        "outputId": "5d11fd65-cf62-4891-a3ae-b0820c42121a"
      },
      "outputs": [
        {
          "output_type": "stream",
          "name": "stdout",
          "text": [
            "Enter the number you want to checkinp\n",
            "Invalid input.You must enter an integer\n",
            "Enter the number you want to check23\n",
            "The number 23 is odd\n"
          ]
        }
      ],
      "source": [
        "class exp(Exception):\n",
        "  pass\n",
        "class inp:\n",
        "  def get_input(self):\n",
        "    while True:\n",
        "      try:\n",
        "        self.a=int(input(\"Enter the number you want to check\"))\n",
        "        break\n",
        "      except ValueError:\n",
        "        print(\"Invalid input.You must enter an integer\")\n",
        "class odd_even(inp):\n",
        "  def check(self):\n",
        "    inp.get_input(self)\n",
        "    if self.a%2==0:\n",
        "      print(f\"The number {self.a} is even\")\n",
        "    else:\n",
        "      print(f\"The number {self.a} is odd\")\n",
        "obj=odd_even()\n",
        "obj.check()\n"
      ]
    },
    {
      "cell_type": "code",
      "source": [],
      "metadata": {
        "id": "yooy6FjFRGDU"
      },
      "execution_count": null,
      "outputs": []
    },
    {
      "cell_type": "code",
      "source": [],
      "metadata": {
        "id": "nglN5tsZQ12k"
      },
      "execution_count": null,
      "outputs": []
    }
  ]
}