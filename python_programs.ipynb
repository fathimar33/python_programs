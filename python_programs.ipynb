{
  "nbformat": 4,
  "nbformat_minor": 0,
  "metadata": {
    "colab": {
      "provenance": [],
      "authorship_tag": "ABX9TyOzh88ao/bcnvKZNgFhlXYw"
    },
    "kernelspec": {
      "name": "python3",
      "display_name": "Python 3"
    },
    "language_info": {
      "name": "python"
    }
  },
  "cells": [
    {
      "cell_type": "markdown",
      "source": [
        "Python Program to Check if a Number is Odd or Even.\n"
      ],
      "metadata": {
        "id": "nUGPK36aMcFs"
      }
    },
    {
      "cell_type": "code",
      "execution_count": null,
      "metadata": {
        "colab": {
          "base_uri": "https://localhost:8080/"
        },
        "id": "qLMe4S7fMB1h",
        "outputId": "5d11fd65-cf62-4891-a3ae-b0820c42121a"
      },
      "outputs": [
        {
          "output_type": "stream",
          "name": "stdout",
          "text": [
            "Enter the number you want to checkinp\n",
            "Invalid input.You must enter an integer\n",
            "Enter the number you want to check23\n",
            "The number 23 is odd\n"
          ]
        }
      ],
      "source": [
        "class exp(Exception):\n",
        "  pass\n",
        "class inp:\n",
        "  def get_input(self):\n",
        "    while True:\n",
        "      try:\n",
        "        self.a=int(input(\"Enter the number you want to check\"))\n",
        "        break\n",
        "      except ValueError:\n",
        "        print(\"Invalid input.You must enter an integer\")\n",
        "class odd_even(inp):\n",
        "  def check(self):\n",
        "    inp.get_input(self)\n",
        "    if self.a%2==0:\n",
        "      print(f\"The number {self.a} is even\")\n",
        "    else:\n",
        "      print(f\"The number {self.a} is odd\")\n",
        "obj=odd_even()\n",
        "obj.check()\n"
      ]
    },
    {
      "cell_type": "markdown",
      "source": [
        "To check if the number is prime or not"
      ],
      "metadata": {
        "id": "G8dqOqwINkCr"
      }
    },
    {
      "cell_type": "code",
      "source": [
        "def check_prime(n):\n",
        "  for i in range(2,n):\n",
        "    if(n%i==0):\n",
        "      print(\"not prime\")\n",
        "      break\n",
        "  print(\"prime\")\n",
        "n=int(input(\"enter the number\"))\n",
        "check_prime(n)"
      ],
      "metadata": {
        "id": "yooy6FjFRGDU",
        "colab": {
          "base_uri": "https://localhost:8080/"
        },
        "outputId": "3236468a-249f-49dc-b17a-83cfe742dcdd"
      },
      "execution_count": null,
      "outputs": [
        {
          "output_type": "stream",
          "name": "stdout",
          "text": [
            "enter the number3\n",
            "prime\n"
          ]
        }
      ]
    },
    {
      "cell_type": "markdown",
      "source": [
        "Write a Python factorial program using ternary operators."
      ],
      "metadata": {
        "id": "CZYgdizrUx9M"
      }
    },
    {
      "cell_type": "code",
      "source": [
        "def factorial(n):\n",
        "  return 1 if n==0 else n*factorial(n-1)\n",
        "n=int(input(\"enter the number\"))\n",
        "a=factorial(n)\n",
        "print(f\"factorial of a number is {a}\")\n",
        "    "
      ],
      "metadata": {
        "id": "nglN5tsZQ12k",
        "colab": {
          "base_uri": "https://localhost:8080/"
        },
        "outputId": "202d060e-9833-4d37-ea45-ee0e6d8fecaa"
      },
      "execution_count": 20,
      "outputs": [
        {
          "output_type": "stream",
          "name": "stdout",
          "text": [
            "enter the number5\n",
            "factorial of a number is 120\n"
          ]
        }
      ]
    }
  ]
}