{
  "nbformat": 4,
  "nbformat_minor": 0,
  "metadata": {
    "colab": {
      "provenance": [],
      "authorship_tag": "ABX9TyMOdQAgFh8LdDcYFt47XN2V"
    },
    "kernelspec": {
      "name": "python3",
      "display_name": "Python 3"
    },
    "language_info": {
      "name": "python"
    }
  },
  "cells": [
    {
      "cell_type": "markdown",
      "source": [
        "Python Program to Check if a Number is Odd or Even.\n"
      ],
      "metadata": {
        "id": "nUGPK36aMcFs"
      }
    },
    {
      "cell_type": "code",
      "execution_count": 6,
      "metadata": {
        "colab": {
          "base_uri": "https://localhost:8080/"
        },
        "id": "qLMe4S7fMB1h",
        "outputId": "fa6363bd-705c-4fdd-8893-0beb385f7675"
      },
      "outputs": [
        {
          "output_type": "stream",
          "name": "stdout",
          "text": [
            "Enter the number ypu want to checkss\n",
            "Invalid input.You must enter an integer\n",
            "Enter the number ypu want to check2\n",
            "The number 2 is even\n"
          ]
        }
      ],
      "source": [
        "class exp(Exception):\n",
        "  pass\n",
        "class inp:\n",
        "  def get_input(self):\n",
        "    while True:\n",
        "      try:\n",
        "        self.a=int(input(\"Enter the number ypu want to check\"))\n",
        "        break\n",
        "      except ValueError:\n",
        "        print(\"Invalid input.You must enter an integer\")\n",
        "class odd_even(inp):\n",
        "  def check(self):\n",
        "    inp.get_input(self)\n",
        "    if self.a%2==0:\n",
        "      print(f\"The number {self.a} is even\")\n",
        "    else:\n",
        "      print(f\"The number {self.a} is odd\")\n",
        "obj=odd_even()\n",
        "obj.check()\n"
      ]
    },
    {
      "cell_type": "code",
      "source": [],
      "metadata": {
        "id": "nglN5tsZQ12k"
      },
      "execution_count": null,
      "outputs": []
    }
  ]
}