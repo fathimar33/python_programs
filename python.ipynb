{
  "cells": [
    {
      "cell_type": "code",
      "execution_count": null,
      "metadata": {
        "id": "51GAkMYOLeZc"
      },
      "outputs": [],
      "source": [
        "# problem 1 \n",
        "#to reverse the number"
      ]
    },
    {
      "cell_type": "code",
      "execution_count": null,
      "metadata": {
        "colab": {
          "base_uri": "https://localhost:8080/"
        },
        "id": "Yg2YRP6TLraC",
        "outputId": "294fe3f4-8f79-424d-b256-0edf9907c737"
      },
      "outputs": [
        {
          "name": "stdout",
          "output_type": "stream",
          "text": [
            "Reversing the number\n",
            "enter the number you want to reverse123\n",
            "3 2 1 "
          ]
        }
      ],
      "source": [
        "class reverse:\n",
        "  def __init__(self):\n",
        "    print(\"Reversing the number\")\n",
        "  def inp(self):\n",
        "    self.a=int(input(\"enter the number you want to reverse\"))\n",
        "  def work(self):\n",
        "    reverse.inp(self)\n",
        "    a=self.a\n",
        "    r=0\n",
        "    while(a>0):\n",
        "      m=a%10\n",
        "      r=r+m\n",
        "      a=a//10\n",
        "      print(m,end=\" \")\n",
        "obj1=reverse()\n",
        "obj1.work()"
      ]
    },
    {
      "cell_type": "code",
      "execution_count": 8,
      "metadata": {
        "colab": {
          "base_uri": "https://localhost:8080/"
        },
        "id": "KerhiL-bWyQH",
        "outputId": "2f4111c5-9f58-4868-b976-576c4689a59e"
      },
      "outputs": [
        {
          "output_type": "stream",
          "name": "stdout",
          "text": [
            "enter the number you want to check123\n",
            "[3, 2, 1]\n",
            "36\n",
            "not armstrong\n"
          ]
        }
      ],
      "source": [
        "#to check whether the integer is armstrong or not\n",
        "class input_user:\n",
        "  def inp(self):\n",
        "    self.n=int(input(\"enter the number you want to check\"))\n",
        "class process(input_user):\n",
        "   def calc(self):\n",
        "    input_user.inp(self)\n",
        "    n=self.n\n",
        "    n1=self.n\n",
        "    count=0\n",
        "    r=0\n",
        "    l=[]\n",
        "    while(n>0):\n",
        "      count+=1\n",
        "      m=n%10\n",
        "      n//=10\n",
        "      l.append(m)\n",
        "    print(l)\n",
        "    sum=0\n",
        "    for i in l:\n",
        "      sum=sum+(i**count)\n",
        "    print(sum)\n",
        "    if(n1==sum):\n",
        "      print(\"armstrong\")  \n",
        "    else:\n",
        "      print(\"not armstrong\")\n",
        "      \n",
        "obj1=process()\n",
        "obj1.calc()"
      ]
    },
    {
      "cell_type": "markdown",
      "source": [
        "write a python program to remove character from the string"
      ],
      "metadata": {
        "id": "IiBXQKAa4OrG"
      }
    },
    {
      "cell_type": "code",
      "source": [
        "a=input(\"enter the string\")\n",
        "char=input(\"enter the character you want to remove from the string\")\n",
        "s=\" \"\n",
        "for i in a:\n",
        "  if(i==\"a\"):\n",
        "    continue\n",
        "  else:\n",
        "    s+=i\n",
        "print(s)\n",
        "\n"
      ],
      "metadata": {
        "colab": {
          "base_uri": "https://localhost:8080/"
        },
        "id": "5LKT9eBv4fbl",
        "outputId": "6f5f6ed7-b65b-4c4d-ed43-b4af79b9793b"
      },
      "execution_count": 10,
      "outputs": [
        {
          "output_type": "stream",
          "name": "stdout",
          "text": [
            "enter the stringfathima\n",
            "enter the character you want to remove from the stringa\n",
            " fthim\n"
          ]
        }
      ]
    }
  ],
  "metadata": {
    "colab": {
      "toc_visible": true,
      "provenance": [],
      "authorship_tag": "ABX9TyM/eYALDOS1i9wDdz6XrANr"
    },
    "kernelspec": {
      "display_name": "Python 3",
      "name": "python3"
    },
    "language_info": {
      "name": "python"
    }
  },
  "nbformat": 4,
  "nbformat_minor": 0
}