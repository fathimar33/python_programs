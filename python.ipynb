{
  "cells": [
    {
      "cell_type": "code",
      "execution_count": null,
      "metadata": {
        "id": "51GAkMYOLeZc"
      },
      "outputs": [],
      "source": [
        "# problem 1 \n",
        "#to reverse the number"
      ]
    },
    {
      "cell_type": "code",
      "execution_count": null,
      "metadata": {
        "colab": {
          "base_uri": "https://localhost:8080/"
        },
        "id": "Yg2YRP6TLraC",
        "outputId": "294fe3f4-8f79-424d-b256-0edf9907c737"
      },
      "outputs": [
        {
          "name": "stdout",
          "output_type": "stream",
          "text": [
            "Reversing the number\n",
            "enter the number you want to reverse123\n",
            "3 2 1 "
          ]
        }
      ],
      "source": [
        "class reverse:\n",
        "  def __init__(self):\n",
        "    print(\"Reversing the number\")\n",
        "  def inp(self):\n",
        "    self.a=int(input(\"enter the number you want to reverse\"))\n",
        "  def work(self):\n",
        "    reverse.inp(self)\n",
        "    a=self.a\n",
        "    r=0\n",
        "    while(a>0):\n",
        "      m=a%10\n",
        "      r=r+m\n",
        "      a=a//10\n",
        "      print(m,end=\" \")\n",
        "obj1=reverse()\n",
        "obj1.work()"
      ]
    },
    {
      "cell_type": "code",
      "execution_count": null,
      "metadata": {
        "colab": {
          "base_uri": "https://localhost:8080/"
        },
        "id": "KerhiL-bWyQH",
        "outputId": "2f4111c5-9f58-4868-b976-576c4689a59e"
      },
      "outputs": [
        {
          "output_type": "stream",
          "name": "stdout",
          "text": [
            "enter the number you want to check123\n",
            "[3, 2, 1]\n",
            "36\n",
            "not armstrong\n"
          ]
        }
      ],
      "source": [
        "#to check whether the integer is armstrong or not\n",
        "class input_user:\n",
        "  def inp(self):\n",
        "    self.n=int(input(\"enter the number you want to check\"))\n",
        "class process(input_user):\n",
        "   def calc(self):\n",
        "    input_user.inp(self)\n",
        "    n=self.n\n",
        "    n1=self.n\n",
        "    count=0\n",
        "    r=0\n",
        "    l=[]\n",
        "    while(n>0):\n",
        "      count+=1\n",
        "      m=n%10\n",
        "      n//=10\n",
        "      l.append(m)\n",
        "    print(l)\n",
        "    sum=0\n",
        "    for i in l:\n",
        "      sum=sum+(i**count)\n",
        "    print(sum)\n",
        "    if(n1==sum):\n",
        "      print(\"armstrong\")  \n",
        "    else:\n",
        "      print(\"not armstrong\")\n",
        "      \n",
        "obj1=process()\n",
        "obj1.calc()"
      ]
    },
    {
      "cell_type": "markdown",
      "source": [
        "write a python program to remove character from the string"
      ],
      "metadata": {
        "id": "IiBXQKAa4OrG"
      }
    },
    {
      "cell_type": "code",
      "source": [
        "a=input(\"enter the string\")\n",
        "char=input(\"enter the character you want to remove from the string\")\n",
        "s=\" \"\n",
        "for i in a:\n",
        "  if(i==\"a\"):\n",
        "    continue\n",
        "  else:\n",
        "    s+=i\n",
        "print(s)\n",
        "\n"
      ],
      "metadata": {
        "colab": {
          "base_uri": "https://localhost:8080/"
        },
        "id": "5LKT9eBv4fbl",
        "outputId": "6f5f6ed7-b65b-4c4d-ed43-b4af79b9793b"
      },
      "execution_count": null,
      "outputs": [
        {
          "output_type": "stream",
          "name": "stdout",
          "text": [
            "enter the stringfathima\n",
            "enter the character you want to remove from the stringa\n",
            " fthim\n"
          ]
        }
      ]
    },
    {
      "cell_type": "markdown",
      "source": [
        "progarm to find the missing numbers in the array that contains the numbers 1 to 100 \n",
        "\n",
        "\n"
      ],
      "metadata": {
        "id": "yHJo7uh_BhkY"
      }
    },
    {
      "cell_type": "code",
      "source": [
        "a=[1, 2, 3, 4, 5, 6, None, 8, 9, 10, 11, None, 13, 14, 15, 16, 17, 18, 19, 20, 21, 22, 23, 24, 25, 26, 27, 28, 29, 30, 31, 32, 33, 34, 35, 36, 37, 38, 39, 40, 41, 42, 43, 44, None, 46, 47, 48, 49, 50, 51, 52, 53, 54, 55, 56, 57, 58, 59, 60, 61, 62, 63, 64, 65, 66, 67, 68, 69, 70, 71, 72, 73, 74, 75, 76, 77, 78, 79, 80, 81, 82, 83, 84, 85, 86, 87, 88, 89, 90, 91, 92, 93, 94, 95, 96, 97, 98, 99, 100]"
      ],
      "metadata": {
        "id": "I5fFxWVPBwU9"
      },
      "execution_count": null,
      "outputs": []
    },
    {
      "cell_type": "code",
      "source": [
        "m,n=[],[]\n",
        "for i in range(1,100):\n",
        "  if(i==a[i-1]):\n",
        "    m.append(i)\n",
        "  else:\n",
        "    n.append(i)\n",
        "print(\"numbers present in the array\",m)\n",
        "print(\"numbers absent in the array\",n)\n",
        "    \n"
      ],
      "metadata": {
        "colab": {
          "base_uri": "https://localhost:8080/"
        },
        "id": "p_Mstpc7FDMi",
        "outputId": "f374f14d-2bbe-4bdb-9780-f4bfe2d91d4c"
      },
      "execution_count": null,
      "outputs": [
        {
          "output_type": "stream",
          "name": "stdout",
          "text": [
            "numbers present in the array [1, 2, 3, 4, 5, 6, 8, 9, 10, 11, 13, 14, 15, 16, 17, 18, 19, 20, 21, 22, 23, 24, 25, 26, 27, 28, 29, 30, 31, 32, 33, 34, 35, 36, 37, 38, 39, 40, 41, 42, 43, 44, 46, 47, 48, 49, 50, 51, 52, 53, 54, 55, 56, 57, 58, 59, 60, 61, 62, 63, 64, 65, 66, 67, 68, 69, 70, 71, 72, 73, 74, 75, 76, 77, 78, 79, 80, 81, 82, 83, 84, 85, 86, 87, 88, 89, 90, 91, 92, 93, 94, 95, 96, 97, 98, 99]\n",
            "numbers absent in the array [7, 12, 45]\n"
          ]
        }
      ]
    },
    {
      "cell_type": "markdown",
      "source": [
        "to find whether the number is prime or not"
      ],
      "metadata": {
        "id": "Jqbu7XZ3ua2o"
      }
    },
    {
      "cell_type": "code",
      "source": [
        "n=int(input(\"enter the number \"))\n",
        "#prime number=it is multiplied only by itself and 1\n",
        "for i in range(2,n):\n",
        "  if(n%i==0):\n",
        "    print(\"not prime\")\n",
        "    break\n",
        "else:\n",
        "    print(\"prime\")"
      ],
      "metadata": {
        "colab": {
          "base_uri": "https://localhost:8080/"
        },
        "id": "LZ-sy3eZuhMM",
        "outputId": "062219a9-4f5d-4dcc-c38d-0575f0380eb9"
      },
      "execution_count": null,
      "outputs": [
        {
          "output_type": "stream",
          "name": "stdout",
          "text": [
            "enter the number 13\n",
            "prime\n"
          ]
        }
      ]
    },
    {
      "cell_type": "markdown",
      "source": [
        "python program to count occurence of given characters in string"
      ],
      "metadata": {
        "id": "EfcfaCunwdIR"
      }
    },
    {
      "cell_type": "code",
      "source": [
        "\n",
        "string=input(\"enter the string\")\n",
        "l=[]\n",
        "for i in string:\n",
        "  print(i,string.count(i))\n"
      ],
      "metadata": {
        "id": "32yfyXLtwsYJ",
        "outputId": "c7fae864-58f3-412a-a32a-b402bb65c3be",
        "colab": {
          "base_uri": "https://localhost:8080/"
        }
      },
      "execution_count": null,
      "outputs": [
        {
          "output_type": "stream",
          "name": "stdout",
          "text": [
            "enter the stringfathima\n",
            "f 1\n",
            "a 2\n",
            "t 1\n",
            "h 1\n",
            "i 1\n",
            "m 1\n",
            "a 2\n"
          ]
        }
      ]
    },
    {
      "cell_type": "markdown",
      "source": [
        "the above code may not be optimal as it also counts the character that already exists to avoid  make use of dictionary or list\n",
        "\n",
        "\n"
      ],
      "metadata": {
        "id": "ncgqVN3h3nLo"
      }
    },
    {
      "cell_type": "code",
      "source": [
        "string=input(\"enter the string\")\n",
        "lists=[]\n",
        "for i in string:\n",
        "  for j in lists:\n",
        "    if j[0]==i:\n",
        "      j[1]+=1\n",
        "      break\n",
        "  else:\n",
        "    lists.append([i,1])\n",
        "print(lists)"
      ],
      "metadata": {
        "id": "Ao_cCYXQ8AXS",
        "colab": {
          "base_uri": "https://localhost:8080/"
        },
        "outputId": "12164248-cb6c-469b-fbdf-584969e5257c"
      },
      "execution_count": 1,
      "outputs": [
        {
          "output_type": "stream",
          "name": "stdout",
          "text": [
            "enter the stringfathima\n",
            "[['f', 1], ['a', 2], ['t', 1], ['h', 1], ['i', 1], ['m', 1]]\n"
          ]
        }
      ]
    }
  ],
  "metadata": {
    "colab": {
      "provenance": [],
      "authorship_tag": "ABX9TyMfzCXzrtPvUf+bYwV2S689"
    },
    "kernelspec": {
      "display_name": "Python 3",
      "name": "python3"
    },
    "language_info": {
      "name": "python"
    }
  },
  "nbformat": 4,
  "nbformat_minor": 0
}