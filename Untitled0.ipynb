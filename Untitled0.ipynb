{
  "nbformat": 4,
  "nbformat_minor": 0,
  "metadata": {
    "colab": {
      "provenance": [],
      "authorship_tag": "ABX9TyMvieUkoBnjVeBtfS1Y7YbY",
      "include_colab_link": true
    },
    "kernelspec": {
      "name": "python3",
      "display_name": "Python 3"
    },
    "language_info": {
      "name": "python"
    }
  },
  "cells": [
    {
      "cell_type": "markdown",
      "metadata": {
        "id": "view-in-github",
        "colab_type": "text"
      },
      "source": [
        "<a href=\"https://colab.research.google.com/github/fathimar33/python_programs/blob/main/Untitled0.ipynb\" target=\"_parent\"><img src=\"https://colab.research.google.com/assets/colab-badge.svg\" alt=\"Open In Colab\"/></a>"
      ]
    },
    {
      "cell_type": "code",
      "execution_count": 1,
      "metadata": {
        "colab": {
          "base_uri": "https://localhost:8080/"
        },
        "id": "5valSG40eAmU",
        "outputId": "b34d7315-c554-455c-9058-172b325a3e57"
      },
      "outputs": [
        {
          "output_type": "stream",
          "name": "stdout",
          "text": [
            "Enter list size: 5\n",
            "Enter the number you want to add to the list: 4\n",
            "Enter the number you want to add to the list: 8\n",
            "Enter the number you want to add to the list: 7\n",
            "Enter the number you want to add to the list: 3\n",
            "Enter the number you want to add to the list: 2\n",
            "The largest number is: 8\n"
          ]
        }
      ],
      "source": [
        "class get_input():\n",
        "    def inp(self):\n",
        "        self.l = []\n",
        "        self.n = int(input(\"Enter list size: \"))\n",
        "        for i in range(self.n):\n",
        "            num = int(input(\"Enter the number you want to add to the list: \"))\n",
        "            self.l.append(num)\n",
        "\n",
        "class large(get_input):\n",
        "    def find_lar(self):\n",
        "        get_input.inp(self)\n",
        "        n1 = 0\n",
        "        big = self.l[n1]\n",
        "        while n1 < len(self.l):\n",
        "            m = n1 + 1\n",
        "            while m < len(self.l):\n",
        "                if self.l[m] > big:\n",
        "                    big = self.l[m]\n",
        "                m += 1\n",
        "            n1 += 1\n",
        "        print(\"The largest number is:\", big)\n",
        "\n",
        "obj1 = large()\n",
        "obj1.find_lar()\n",
        "\n"
      ]
    }
  ]
}